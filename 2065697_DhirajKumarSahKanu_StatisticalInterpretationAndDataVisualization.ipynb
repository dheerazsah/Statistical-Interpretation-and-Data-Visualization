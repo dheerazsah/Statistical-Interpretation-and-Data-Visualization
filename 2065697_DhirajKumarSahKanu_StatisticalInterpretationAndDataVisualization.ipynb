{
  "cells": [
    {
      "attachments": {},
      "cell_type": "markdown",
      "metadata": {
        "id": "wCuhwyaGCb1x"
      },
      "source": [
        "# Statistical Interpretation and Data Visualization.\n",
        "\n",
        "\n"
      ]
    },
    {
      "cell_type": "markdown",
      "metadata": {
        "id": "OJVC8QGLExnW"
      },
      "source": [
        "## Learning Outcomes\n",
        "Learning outcomes can be following but not limited to:\n",
        "1. Use Pandas as the primary tool to process structured data in Python with CSV files,\n",
        "2. Use matplotlib and seaborn library to produce various plots for visualization,\n",
        "3. Extract various information from a given dataset using statistical and visualizing techniques."
      ]
    },
    {
      "cell_type": "markdown",
      "metadata": {
        "id": "rdIUEhpwFNKG"
      },
      "source": [
        "## Dataset Description\n",
        "The data given here in the assignment is of student achievements in secondary education of two Portuguese\n",
        "schools namely “Gabriel Pereira” and “Mousinho da Silveira”. The dataset’s attributes include student grades\n",
        "in demographic, social, and mathematics and many other school-related features, and all the information was\n",
        "collected by using the school reports and questionnaire. The data description of the data file is provided below:\n",
        "Filename: ”performance.csv”\n",
        "available for download from google classroom.\n",
        "The data set contains 395 student records. Each record consists of 33 variables, which include information\n",
        "about the students. Variable 33, G3 – final grade (numeric: 0 – 20), is the target variable). "
      ]
    },
    {
      "cell_type": "markdown",
      "metadata": {
        "id": "H3CHC_fLFWKl"
      },
      "source": [
        "# Tasks"
      ]
    },
    {
      "cell_type": "code",
      "execution_count": null,
      "metadata": {
        "id": "quUFTWNNBAxz"
      },
      "outputs": [],
      "source": [
        "#Necessary Inputs\n",
        "#Importing numpy to use array, lists related operations in an easy-use way\n",
        "import numpy as np\n",
        "#Importing matplotlib.pyplot i.e. collection of command style functions that make matplotlib work\n",
        "import matplotlib.pyplot as plt\n",
        "#Importing Seaborn a Python data visualization library built on top of Matplotlib\n",
        "import seaborn as sns \n",
        "#Importing pandas an open source data analysis library built on top of the Python programming language\n",
        "import pandas as pd"
      ]
    },
    {
      "cell_type": "code",
      "execution_count": null,
      "metadata": {
        "colab": {
          "base_uri": "https://localhost:8080/"
        },
        "id": "Xqvw-L--BbSV",
        "outputId": "96ece851-eed5-44e4-c79b-2a18f48d9a7c"
      },
      "outputs": [
        {
          "name": "stdout",
          "output_type": "stream",
          "text": [
            "Drive already mounted at /content/drive; to attempt to forcibly remount, call drive.mount(\"/content/drive\", force_remount=True).\n"
          ]
        }
      ],
      "source": [
        "#By using the Google Drive file ID, we can import a single file, e.g., csv or txt file, from Google Drive.\n",
        "from google.colab import drive\n",
        "drive.mount('/content/drive')"
      ]
    },
    {
      "cell_type": "code",
      "execution_count": null,
      "metadata": {
        "id": "m6R4o3G1Bl0K"
      },
      "outputs": [],
      "source": [
        "#Creating a variable named coursework_data and providing path to .csv file\n",
        "coursework_data = \"/content/drive/MyDrive/AI_Coursework/performance.csv\""
      ]
    },
    {
      "cell_type": "markdown",
      "metadata": {
        "id": "vA6t0lxbF08t"
      },
      "source": [
        "## A. Data Understanding and Cleaning\n"
      ]
    },
    {
      "cell_type": "markdown",
      "metadata": {
        "id": "R2ivOMniEccz"
      },
      "source": [
        "1. Use pandas to upload your data."
      ]
    },
    {
      "cell_type": "markdown",
      "metadata": {
        "id": "Ro5NFXXlIEz2"
      },
      "source": [
        "* Here, the varibale coursework_data imples to read the data using pandas which reads the csv file and then shows the file below that is stored in that particular performance.csv file.\n"
      ]
    },
    {
      "cell_type": "code",
      "execution_count": null,
      "metadata": {
        "colab": {
          "base_uri": "https://localhost:8080/",
          "height": 641
        },
        "id": "6Z_M9KvLIUtK",
        "outputId": "301f6775-69d6-4048-8f13-febec2a85952"
      },
      "outputs": [
        {
          "data": {
            "text/html": [
              "\n",
              "  <div id=\"df-08800ea4-a264-4728-9c0d-aa1efc62dae0\">\n",
              "    <div class=\"colab-df-container\">\n",
              "      <div>\n",
              "<style scoped>\n",
              "    .dataframe tbody tr th:only-of-type {\n",
              "        vertical-align: middle;\n",
              "    }\n",
              "\n",
              "    .dataframe tbody tr th {\n",
              "        vertical-align: top;\n",
              "    }\n",
              "\n",
              "    .dataframe thead th {\n",
              "        text-align: right;\n",
              "    }\n",
              "</style>\n",
              "<table border=\"1\" class=\"dataframe\">\n",
              "  <thead>\n",
              "    <tr style=\"text-align: right;\">\n",
              "      <th></th>\n",
              "      <th>school</th>\n",
              "      <th>sex</th>\n",
              "      <th>age</th>\n",
              "      <th>address</th>\n",
              "      <th>famsize</th>\n",
              "      <th>Pstatus</th>\n",
              "      <th>Medu</th>\n",
              "      <th>Fedu</th>\n",
              "      <th>Mjob</th>\n",
              "      <th>Fjob</th>\n",
              "      <th>...</th>\n",
              "      <th>famrel</th>\n",
              "      <th>freetime</th>\n",
              "      <th>goout</th>\n",
              "      <th>Dalc</th>\n",
              "      <th>Walc</th>\n",
              "      <th>health</th>\n",
              "      <th>absences</th>\n",
              "      <th>G1</th>\n",
              "      <th>G2</th>\n",
              "      <th>G3</th>\n",
              "    </tr>\n",
              "  </thead>\n",
              "  <tbody>\n",
              "    <tr>\n",
              "      <th>0</th>\n",
              "      <td>GP</td>\n",
              "      <td>F</td>\n",
              "      <td>18</td>\n",
              "      <td>U</td>\n",
              "      <td>GT3</td>\n",
              "      <td>A</td>\n",
              "      <td>higher education</td>\n",
              "      <td>higher education</td>\n",
              "      <td>at_home</td>\n",
              "      <td>teacher</td>\n",
              "      <td>...</td>\n",
              "      <td>very good</td>\n",
              "      <td>medium</td>\n",
              "      <td>high</td>\n",
              "      <td>very low</td>\n",
              "      <td>very low</td>\n",
              "      <td>good</td>\n",
              "      <td>6</td>\n",
              "      <td>5</td>\n",
              "      <td>6</td>\n",
              "      <td>6</td>\n",
              "    </tr>\n",
              "    <tr>\n",
              "      <th>1</th>\n",
              "      <td>GP</td>\n",
              "      <td>F</td>\n",
              "      <td>17</td>\n",
              "      <td>U</td>\n",
              "      <td>GT3</td>\n",
              "      <td>T</td>\n",
              "      <td>primary education (4th grade)</td>\n",
              "      <td>primary education (4th grade)</td>\n",
              "      <td>at_home</td>\n",
              "      <td>other</td>\n",
              "      <td>...</td>\n",
              "      <td>excellent</td>\n",
              "      <td>medium</td>\n",
              "      <td>medium</td>\n",
              "      <td>very low</td>\n",
              "      <td>very low</td>\n",
              "      <td>good</td>\n",
              "      <td>4</td>\n",
              "      <td>5</td>\n",
              "      <td>5</td>\n",
              "      <td>6</td>\n",
              "    </tr>\n",
              "    <tr>\n",
              "      <th>2</th>\n",
              "      <td>GP</td>\n",
              "      <td>F</td>\n",
              "      <td>15</td>\n",
              "      <td>U</td>\n",
              "      <td>LE3</td>\n",
              "      <td>T</td>\n",
              "      <td>primary education (4th grade)</td>\n",
              "      <td>primary education (4th grade)</td>\n",
              "      <td>at_home</td>\n",
              "      <td>other</td>\n",
              "      <td>...</td>\n",
              "      <td>very good</td>\n",
              "      <td>medium</td>\n",
              "      <td>low</td>\n",
              "      <td>low</td>\n",
              "      <td>medium</td>\n",
              "      <td>good</td>\n",
              "      <td>10</td>\n",
              "      <td>7</td>\n",
              "      <td>8</td>\n",
              "      <td>10</td>\n",
              "    </tr>\n",
              "    <tr>\n",
              "      <th>3</th>\n",
              "      <td>GP</td>\n",
              "      <td>F</td>\n",
              "      <td>15</td>\n",
              "      <td>U</td>\n",
              "      <td>GT3</td>\n",
              "      <td>T</td>\n",
              "      <td>higher education</td>\n",
              "      <td>5th to 9th grade</td>\n",
              "      <td>health</td>\n",
              "      <td>services</td>\n",
              "      <td>...</td>\n",
              "      <td>good</td>\n",
              "      <td>low</td>\n",
              "      <td>low</td>\n",
              "      <td>very low</td>\n",
              "      <td>very low</td>\n",
              "      <td>excellent</td>\n",
              "      <td>2</td>\n",
              "      <td>15</td>\n",
              "      <td>14</td>\n",
              "      <td>15</td>\n",
              "    </tr>\n",
              "    <tr>\n",
              "      <th>4</th>\n",
              "      <td>GP</td>\n",
              "      <td>F</td>\n",
              "      <td>16</td>\n",
              "      <td>U</td>\n",
              "      <td>GT3</td>\n",
              "      <td>T</td>\n",
              "      <td>secondary education</td>\n",
              "      <td>secondary education</td>\n",
              "      <td>other</td>\n",
              "      <td>other</td>\n",
              "      <td>...</td>\n",
              "      <td>very good</td>\n",
              "      <td>medium</td>\n",
              "      <td>low</td>\n",
              "      <td>very low</td>\n",
              "      <td>low</td>\n",
              "      <td>excellent</td>\n",
              "      <td>4</td>\n",
              "      <td>6</td>\n",
              "      <td>10</td>\n",
              "      <td>10</td>\n",
              "    </tr>\n",
              "    <tr>\n",
              "      <th>...</th>\n",
              "      <td>...</td>\n",
              "      <td>...</td>\n",
              "      <td>...</td>\n",
              "      <td>...</td>\n",
              "      <td>...</td>\n",
              "      <td>...</td>\n",
              "      <td>...</td>\n",
              "      <td>...</td>\n",
              "      <td>...</td>\n",
              "      <td>...</td>\n",
              "      <td>...</td>\n",
              "      <td>...</td>\n",
              "      <td>...</td>\n",
              "      <td>...</td>\n",
              "      <td>...</td>\n",
              "      <td>...</td>\n",
              "      <td>...</td>\n",
              "      <td>...</td>\n",
              "      <td>...</td>\n",
              "      <td>...</td>\n",
              "      <td>...</td>\n",
              "    </tr>\n",
              "    <tr>\n",
              "      <th>390</th>\n",
              "      <td>MS</td>\n",
              "      <td>M</td>\n",
              "      <td>20</td>\n",
              "      <td>U</td>\n",
              "      <td>LE3</td>\n",
              "      <td>A</td>\n",
              "      <td>5th to 9th grade</td>\n",
              "      <td>5th to 9th grade</td>\n",
              "      <td>services</td>\n",
              "      <td>services</td>\n",
              "      <td>...</td>\n",
              "      <td>excellent</td>\n",
              "      <td>very high</td>\n",
              "      <td>high</td>\n",
              "      <td>high</td>\n",
              "      <td>very high</td>\n",
              "      <td>very good</td>\n",
              "      <td>11</td>\n",
              "      <td>9</td>\n",
              "      <td>9</td>\n",
              "      <td>9</td>\n",
              "    </tr>\n",
              "    <tr>\n",
              "      <th>391</th>\n",
              "      <td>MS</td>\n",
              "      <td>M</td>\n",
              "      <td>17</td>\n",
              "      <td>U</td>\n",
              "      <td>LE3</td>\n",
              "      <td>T</td>\n",
              "      <td>secondary education</td>\n",
              "      <td>primary education (4th grade)</td>\n",
              "      <td>services</td>\n",
              "      <td>services</td>\n",
              "      <td>...</td>\n",
              "      <td>bad</td>\n",
              "      <td>high</td>\n",
              "      <td>very high</td>\n",
              "      <td>medium</td>\n",
              "      <td>high</td>\n",
              "      <td>bad</td>\n",
              "      <td>3</td>\n",
              "      <td>14</td>\n",
              "      <td>16</td>\n",
              "      <td>16</td>\n",
              "    </tr>\n",
              "    <tr>\n",
              "      <th>392</th>\n",
              "      <td>MS</td>\n",
              "      <td>M</td>\n",
              "      <td>21</td>\n",
              "      <td>R</td>\n",
              "      <td>GT3</td>\n",
              "      <td>T</td>\n",
              "      <td>primary education (4th grade)</td>\n",
              "      <td>primary education (4th grade)</td>\n",
              "      <td>other</td>\n",
              "      <td>other</td>\n",
              "      <td>...</td>\n",
              "      <td>excellent</td>\n",
              "      <td>very high</td>\n",
              "      <td>medium</td>\n",
              "      <td>medium</td>\n",
              "      <td>medium</td>\n",
              "      <td>good</td>\n",
              "      <td>3</td>\n",
              "      <td>10</td>\n",
              "      <td>8</td>\n",
              "      <td>7</td>\n",
              "    </tr>\n",
              "    <tr>\n",
              "      <th>393</th>\n",
              "      <td>MS</td>\n",
              "      <td>M</td>\n",
              "      <td>18</td>\n",
              "      <td>R</td>\n",
              "      <td>LE3</td>\n",
              "      <td>T</td>\n",
              "      <td>secondary education</td>\n",
              "      <td>5th to 9th grade</td>\n",
              "      <td>services</td>\n",
              "      <td>other</td>\n",
              "      <td>...</td>\n",
              "      <td>very good</td>\n",
              "      <td>high</td>\n",
              "      <td>very low</td>\n",
              "      <td>medium</td>\n",
              "      <td>high</td>\n",
              "      <td>excellent</td>\n",
              "      <td>0</td>\n",
              "      <td>11</td>\n",
              "      <td>12</td>\n",
              "      <td>10</td>\n",
              "    </tr>\n",
              "    <tr>\n",
              "      <th>394</th>\n",
              "      <td>MS</td>\n",
              "      <td>M</td>\n",
              "      <td>19</td>\n",
              "      <td>U</td>\n",
              "      <td>LE3</td>\n",
              "      <td>T</td>\n",
              "      <td>primary education (4th grade)</td>\n",
              "      <td>primary education (4th grade)</td>\n",
              "      <td>other</td>\n",
              "      <td>at_home</td>\n",
              "      <td>...</td>\n",
              "      <td>good</td>\n",
              "      <td>low</td>\n",
              "      <td>medium</td>\n",
              "      <td>medium</td>\n",
              "      <td>medium</td>\n",
              "      <td>excellent</td>\n",
              "      <td>5</td>\n",
              "      <td>8</td>\n",
              "      <td>9</td>\n",
              "      <td>9</td>\n",
              "    </tr>\n",
              "  </tbody>\n",
              "</table>\n",
              "<p>395 rows × 33 columns</p>\n",
              "</div>\n",
              "      <button class=\"colab-df-convert\" onclick=\"convertToInteractive('df-08800ea4-a264-4728-9c0d-aa1efc62dae0')\"\n",
              "              title=\"Convert this dataframe to an interactive table.\"\n",
              "              style=\"display:none;\">\n",
              "        \n",
              "  <svg xmlns=\"http://www.w3.org/2000/svg\" height=\"24px\"viewBox=\"0 0 24 24\"\n",
              "       width=\"24px\">\n",
              "    <path d=\"M0 0h24v24H0V0z\" fill=\"none\"/>\n",
              "    <path d=\"M18.56 5.44l.94 2.06.94-2.06 2.06-.94-2.06-.94-.94-2.06-.94 2.06-2.06.94zm-11 1L8.5 8.5l.94-2.06 2.06-.94-2.06-.94L8.5 2.5l-.94 2.06-2.06.94zm10 10l.94 2.06.94-2.06 2.06-.94-2.06-.94-.94-2.06-.94 2.06-2.06.94z\"/><path d=\"M17.41 7.96l-1.37-1.37c-.4-.4-.92-.59-1.43-.59-.52 0-1.04.2-1.43.59L10.3 9.45l-7.72 7.72c-.78.78-.78 2.05 0 2.83L4 21.41c.39.39.9.59 1.41.59.51 0 1.02-.2 1.41-.59l7.78-7.78 2.81-2.81c.8-.78.8-2.07 0-2.86zM5.41 20L4 18.59l7.72-7.72 1.47 1.35L5.41 20z\"/>\n",
              "  </svg>\n",
              "      </button>\n",
              "      \n",
              "  <style>\n",
              "    .colab-df-container {\n",
              "      display:flex;\n",
              "      flex-wrap:wrap;\n",
              "      gap: 12px;\n",
              "    }\n",
              "\n",
              "    .colab-df-convert {\n",
              "      background-color: #E8F0FE;\n",
              "      border: none;\n",
              "      border-radius: 50%;\n",
              "      cursor: pointer;\n",
              "      display: none;\n",
              "      fill: #1967D2;\n",
              "      height: 32px;\n",
              "      padding: 0 0 0 0;\n",
              "      width: 32px;\n",
              "    }\n",
              "\n",
              "    .colab-df-convert:hover {\n",
              "      background-color: #E2EBFA;\n",
              "      box-shadow: 0px 1px 2px rgba(60, 64, 67, 0.3), 0px 1px 3px 1px rgba(60, 64, 67, 0.15);\n",
              "      fill: #174EA6;\n",
              "    }\n",
              "\n",
              "    [theme=dark] .colab-df-convert {\n",
              "      background-color: #3B4455;\n",
              "      fill: #D2E3FC;\n",
              "    }\n",
              "\n",
              "    [theme=dark] .colab-df-convert:hover {\n",
              "      background-color: #434B5C;\n",
              "      box-shadow: 0px 1px 3px 1px rgba(0, 0, 0, 0.15);\n",
              "      filter: drop-shadow(0px 1px 2px rgba(0, 0, 0, 0.3));\n",
              "      fill: #FFFFFF;\n",
              "    }\n",
              "  </style>\n",
              "\n",
              "      <script>\n",
              "        const buttonEl =\n",
              "          document.querySelector('#df-08800ea4-a264-4728-9c0d-aa1efc62dae0 button.colab-df-convert');\n",
              "        buttonEl.style.display =\n",
              "          google.colab.kernel.accessAllowed ? 'block' : 'none';\n",
              "\n",
              "        async function convertToInteractive(key) {\n",
              "          const element = document.querySelector('#df-08800ea4-a264-4728-9c0d-aa1efc62dae0');\n",
              "          const dataTable =\n",
              "            await google.colab.kernel.invokeFunction('convertToInteractive',\n",
              "                                                     [key], {});\n",
              "          if (!dataTable) return;\n",
              "\n",
              "          const docLinkHtml = 'Like what you see? Visit the ' +\n",
              "            '<a target=\"_blank\" href=https://colab.research.google.com/notebooks/data_table.ipynb>data table notebook</a>'\n",
              "            + ' to learn more about interactive tables.';\n",
              "          element.innerHTML = '';\n",
              "          dataTable['output_type'] = 'display_data';\n",
              "          await google.colab.output.renderOutput(dataTable, element);\n",
              "          const docLink = document.createElement('div');\n",
              "          docLink.innerHTML = docLinkHtml;\n",
              "          element.appendChild(docLink);\n",
              "        }\n",
              "      </script>\n",
              "    </div>\n",
              "  </div>\n",
              "  "
            ],
            "text/plain": [
              "    school sex  age address famsize Pstatus                           Medu  \\\n",
              "0       GP   F   18       U     GT3       A               higher education   \n",
              "1       GP   F   17       U     GT3       T  primary education (4th grade)   \n",
              "2       GP   F   15       U     LE3       T  primary education (4th grade)   \n",
              "3       GP   F   15       U     GT3       T               higher education   \n",
              "4       GP   F   16       U     GT3       T            secondary education   \n",
              "..     ...  ..  ...     ...     ...     ...                            ...   \n",
              "390     MS   M   20       U     LE3       A               5th to 9th grade   \n",
              "391     MS   M   17       U     LE3       T            secondary education   \n",
              "392     MS   M   21       R     GT3       T  primary education (4th grade)   \n",
              "393     MS   M   18       R     LE3       T            secondary education   \n",
              "394     MS   M   19       U     LE3       T  primary education (4th grade)   \n",
              "\n",
              "                              Fedu      Mjob      Fjob  ...     famrel  \\\n",
              "0                 higher education   at_home   teacher  ...  very good   \n",
              "1    primary education (4th grade)   at_home     other  ...  excellent   \n",
              "2    primary education (4th grade)   at_home     other  ...  very good   \n",
              "3                 5th to 9th grade    health  services  ...       good   \n",
              "4              secondary education     other     other  ...  very good   \n",
              "..                             ...       ...       ...  ...        ...   \n",
              "390               5th to 9th grade  services  services  ...  excellent   \n",
              "391  primary education (4th grade)  services  services  ...        bad   \n",
              "392  primary education (4th grade)     other     other  ...  excellent   \n",
              "393               5th to 9th grade  services     other  ...  very good   \n",
              "394  primary education (4th grade)     other   at_home  ...       good   \n",
              "\n",
              "      freetime      goout      Dalc       Walc     health absences  G1  G2  G3  \n",
              "0       medium       high  very low   very low       good        6   5   6   6  \n",
              "1       medium     medium  very low   very low       good        4   5   5   6  \n",
              "2       medium        low       low     medium       good       10   7   8  10  \n",
              "3          low        low  very low   very low  excellent        2  15  14  15  \n",
              "4       medium        low  very low        low  excellent        4   6  10  10  \n",
              "..         ...        ...       ...        ...        ...      ...  ..  ..  ..  \n",
              "390  very high       high      high  very high  very good       11   9   9   9  \n",
              "391       high  very high    medium       high        bad        3  14  16  16  \n",
              "392  very high     medium    medium     medium       good        3  10   8   7  \n",
              "393       high   very low    medium       high  excellent        0  11  12  10  \n",
              "394        low     medium    medium     medium  excellent        5   8   9   9  \n",
              "\n",
              "[395 rows x 33 columns]"
            ]
          },
          "execution_count": 6,
          "metadata": {},
          "output_type": "execute_result"
        }
      ],
      "source": [
        "#Reads the data inside coursework_data using pandas\n",
        "coursework_data = pd.read_csv(coursework_data) \n",
        "#Shows or prints the file read for coursework_data\n",
        "coursework_data"
      ]
    },
    {
      "cell_type": "markdown",
      "metadata": {
        "id": "YfSVVx0hGPgN"
      },
      "source": [
        "2. Once you make your initial observation, please explain why do you think the data was collected, what kind of information you can extract from the dataset. Please write your answer in text cell of the Jupyter Notebook."
      ]
    },
    {
      "cell_type": "markdown",
      "metadata": {
        "id": "VuRwM3FGKSL5"
      },
      "source": [
        "* From the above observation of the table which was extracted first by reading the data inside coursework_data using pandas and then displaying it. The data might have been collected for extraction of various information from the dataset where the data of school, student details, and various other information have been listed. We can intrepet the extract various information using statistical and visualizing techniques. We can check the datatype of the above datasets, we can transform the variables listed inside the dataset. We can manipulate the data information, we can separate the data according to different intervals referencing to the data used. Not only that, we can perform descriptive analysis i.e.  we can show the summary statistic (sum, mean, median, standard deviation, max, and min) of the data. Similarly, we can intrepet histogram plots and boxplots to visualize the distribution of the variables. "
      ]
    },
    {
      "cell_type": "markdown",
      "metadata": {
        "id": "AnK_-4hOGV9l"
      },
      "source": [
        "3. Check for null values and datatypes for all the columns present in the dataset."
      ]
    },
    {
      "cell_type": "markdown",
      "metadata": {
        "id": "fLIaxXB3KDxm"
      },
      "source": [
        "* Here, the code checks the null values for all the columns present in the dataset but couldnot find null value."
      ]
    },
    {
      "cell_type": "code",
      "execution_count": null,
      "metadata": {
        "colab": {
          "base_uri": "https://localhost:8080/",
          "height": 424
        },
        "id": "NXu3-qJlJNUX",
        "outputId": "3193c870-c649-4d08-9513-8d03cc17f271"
      },
      "outputs": [
        {
          "data": {
            "text/html": [
              "\n",
              "  <div id=\"df-c2bd3720-cdf4-4412-a1c0-b6d23fc77af6\">\n",
              "    <div class=\"colab-df-container\">\n",
              "      <div>\n",
              "<style scoped>\n",
              "    .dataframe tbody tr th:only-of-type {\n",
              "        vertical-align: middle;\n",
              "    }\n",
              "\n",
              "    .dataframe tbody tr th {\n",
              "        vertical-align: top;\n",
              "    }\n",
              "\n",
              "    .dataframe thead th {\n",
              "        text-align: right;\n",
              "    }\n",
              "</style>\n",
              "<table border=\"1\" class=\"dataframe\">\n",
              "  <thead>\n",
              "    <tr style=\"text-align: right;\">\n",
              "      <th></th>\n",
              "      <th>school</th>\n",
              "      <th>sex</th>\n",
              "      <th>age</th>\n",
              "      <th>address</th>\n",
              "      <th>famsize</th>\n",
              "      <th>Pstatus</th>\n",
              "      <th>Medu</th>\n",
              "      <th>Fedu</th>\n",
              "      <th>Mjob</th>\n",
              "      <th>Fjob</th>\n",
              "      <th>...</th>\n",
              "      <th>famrel</th>\n",
              "      <th>freetime</th>\n",
              "      <th>goout</th>\n",
              "      <th>Dalc</th>\n",
              "      <th>Walc</th>\n",
              "      <th>health</th>\n",
              "      <th>absences</th>\n",
              "      <th>G1</th>\n",
              "      <th>G2</th>\n",
              "      <th>G3</th>\n",
              "    </tr>\n",
              "  </thead>\n",
              "  <tbody>\n",
              "    <tr>\n",
              "      <th>0</th>\n",
              "      <td>False</td>\n",
              "      <td>False</td>\n",
              "      <td>False</td>\n",
              "      <td>False</td>\n",
              "      <td>False</td>\n",
              "      <td>False</td>\n",
              "      <td>False</td>\n",
              "      <td>False</td>\n",
              "      <td>False</td>\n",
              "      <td>False</td>\n",
              "      <td>...</td>\n",
              "      <td>False</td>\n",
              "      <td>False</td>\n",
              "      <td>False</td>\n",
              "      <td>False</td>\n",
              "      <td>False</td>\n",
              "      <td>False</td>\n",
              "      <td>False</td>\n",
              "      <td>False</td>\n",
              "      <td>False</td>\n",
              "      <td>False</td>\n",
              "    </tr>\n",
              "    <tr>\n",
              "      <th>1</th>\n",
              "      <td>False</td>\n",
              "      <td>False</td>\n",
              "      <td>False</td>\n",
              "      <td>False</td>\n",
              "      <td>False</td>\n",
              "      <td>False</td>\n",
              "      <td>False</td>\n",
              "      <td>False</td>\n",
              "      <td>False</td>\n",
              "      <td>False</td>\n",
              "      <td>...</td>\n",
              "      <td>False</td>\n",
              "      <td>False</td>\n",
              "      <td>False</td>\n",
              "      <td>False</td>\n",
              "      <td>False</td>\n",
              "      <td>False</td>\n",
              "      <td>False</td>\n",
              "      <td>False</td>\n",
              "      <td>False</td>\n",
              "      <td>False</td>\n",
              "    </tr>\n",
              "    <tr>\n",
              "      <th>2</th>\n",
              "      <td>False</td>\n",
              "      <td>False</td>\n",
              "      <td>False</td>\n",
              "      <td>False</td>\n",
              "      <td>False</td>\n",
              "      <td>False</td>\n",
              "      <td>False</td>\n",
              "      <td>False</td>\n",
              "      <td>False</td>\n",
              "      <td>False</td>\n",
              "      <td>...</td>\n",
              "      <td>False</td>\n",
              "      <td>False</td>\n",
              "      <td>False</td>\n",
              "      <td>False</td>\n",
              "      <td>False</td>\n",
              "      <td>False</td>\n",
              "      <td>False</td>\n",
              "      <td>False</td>\n",
              "      <td>False</td>\n",
              "      <td>False</td>\n",
              "    </tr>\n",
              "    <tr>\n",
              "      <th>3</th>\n",
              "      <td>False</td>\n",
              "      <td>False</td>\n",
              "      <td>False</td>\n",
              "      <td>False</td>\n",
              "      <td>False</td>\n",
              "      <td>False</td>\n",
              "      <td>False</td>\n",
              "      <td>False</td>\n",
              "      <td>False</td>\n",
              "      <td>False</td>\n",
              "      <td>...</td>\n",
              "      <td>False</td>\n",
              "      <td>False</td>\n",
              "      <td>False</td>\n",
              "      <td>False</td>\n",
              "      <td>False</td>\n",
              "      <td>False</td>\n",
              "      <td>False</td>\n",
              "      <td>False</td>\n",
              "      <td>False</td>\n",
              "      <td>False</td>\n",
              "    </tr>\n",
              "    <tr>\n",
              "      <th>4</th>\n",
              "      <td>False</td>\n",
              "      <td>False</td>\n",
              "      <td>False</td>\n",
              "      <td>False</td>\n",
              "      <td>False</td>\n",
              "      <td>False</td>\n",
              "      <td>False</td>\n",
              "      <td>False</td>\n",
              "      <td>False</td>\n",
              "      <td>False</td>\n",
              "      <td>...</td>\n",
              "      <td>False</td>\n",
              "      <td>False</td>\n",
              "      <td>False</td>\n",
              "      <td>False</td>\n",
              "      <td>False</td>\n",
              "      <td>False</td>\n",
              "      <td>False</td>\n",
              "      <td>False</td>\n",
              "      <td>False</td>\n",
              "      <td>False</td>\n",
              "    </tr>\n",
              "    <tr>\n",
              "      <th>...</th>\n",
              "      <td>...</td>\n",
              "      <td>...</td>\n",
              "      <td>...</td>\n",
              "      <td>...</td>\n",
              "      <td>...</td>\n",
              "      <td>...</td>\n",
              "      <td>...</td>\n",
              "      <td>...</td>\n",
              "      <td>...</td>\n",
              "      <td>...</td>\n",
              "      <td>...</td>\n",
              "      <td>...</td>\n",
              "      <td>...</td>\n",
              "      <td>...</td>\n",
              "      <td>...</td>\n",
              "      <td>...</td>\n",
              "      <td>...</td>\n",
              "      <td>...</td>\n",
              "      <td>...</td>\n",
              "      <td>...</td>\n",
              "      <td>...</td>\n",
              "    </tr>\n",
              "    <tr>\n",
              "      <th>390</th>\n",
              "      <td>False</td>\n",
              "      <td>False</td>\n",
              "      <td>False</td>\n",
              "      <td>False</td>\n",
              "      <td>False</td>\n",
              "      <td>False</td>\n",
              "      <td>False</td>\n",
              "      <td>False</td>\n",
              "      <td>False</td>\n",
              "      <td>False</td>\n",
              "      <td>...</td>\n",
              "      <td>False</td>\n",
              "      <td>False</td>\n",
              "      <td>False</td>\n",
              "      <td>False</td>\n",
              "      <td>False</td>\n",
              "      <td>False</td>\n",
              "      <td>False</td>\n",
              "      <td>False</td>\n",
              "      <td>False</td>\n",
              "      <td>False</td>\n",
              "    </tr>\n",
              "    <tr>\n",
              "      <th>391</th>\n",
              "      <td>False</td>\n",
              "      <td>False</td>\n",
              "      <td>False</td>\n",
              "      <td>False</td>\n",
              "      <td>False</td>\n",
              "      <td>False</td>\n",
              "      <td>False</td>\n",
              "      <td>False</td>\n",
              "      <td>False</td>\n",
              "      <td>False</td>\n",
              "      <td>...</td>\n",
              "      <td>False</td>\n",
              "      <td>False</td>\n",
              "      <td>False</td>\n",
              "      <td>False</td>\n",
              "      <td>False</td>\n",
              "      <td>False</td>\n",
              "      <td>False</td>\n",
              "      <td>False</td>\n",
              "      <td>False</td>\n",
              "      <td>False</td>\n",
              "    </tr>\n",
              "    <tr>\n",
              "      <th>392</th>\n",
              "      <td>False</td>\n",
              "      <td>False</td>\n",
              "      <td>False</td>\n",
              "      <td>False</td>\n",
              "      <td>False</td>\n",
              "      <td>False</td>\n",
              "      <td>False</td>\n",
              "      <td>False</td>\n",
              "      <td>False</td>\n",
              "      <td>False</td>\n",
              "      <td>...</td>\n",
              "      <td>False</td>\n",
              "      <td>False</td>\n",
              "      <td>False</td>\n",
              "      <td>False</td>\n",
              "      <td>False</td>\n",
              "      <td>False</td>\n",
              "      <td>False</td>\n",
              "      <td>False</td>\n",
              "      <td>False</td>\n",
              "      <td>False</td>\n",
              "    </tr>\n",
              "    <tr>\n",
              "      <th>393</th>\n",
              "      <td>False</td>\n",
              "      <td>False</td>\n",
              "      <td>False</td>\n",
              "      <td>False</td>\n",
              "      <td>False</td>\n",
              "      <td>False</td>\n",
              "      <td>False</td>\n",
              "      <td>False</td>\n",
              "      <td>False</td>\n",
              "      <td>False</td>\n",
              "      <td>...</td>\n",
              "      <td>False</td>\n",
              "      <td>False</td>\n",
              "      <td>False</td>\n",
              "      <td>False</td>\n",
              "      <td>False</td>\n",
              "      <td>False</td>\n",
              "      <td>False</td>\n",
              "      <td>False</td>\n",
              "      <td>False</td>\n",
              "      <td>False</td>\n",
              "    </tr>\n",
              "    <tr>\n",
              "      <th>394</th>\n",
              "      <td>False</td>\n",
              "      <td>False</td>\n",
              "      <td>False</td>\n",
              "      <td>False</td>\n",
              "      <td>False</td>\n",
              "      <td>False</td>\n",
              "      <td>False</td>\n",
              "      <td>False</td>\n",
              "      <td>False</td>\n",
              "      <td>False</td>\n",
              "      <td>...</td>\n",
              "      <td>False</td>\n",
              "      <td>False</td>\n",
              "      <td>False</td>\n",
              "      <td>False</td>\n",
              "      <td>False</td>\n",
              "      <td>False</td>\n",
              "      <td>False</td>\n",
              "      <td>False</td>\n",
              "      <td>False</td>\n",
              "      <td>False</td>\n",
              "    </tr>\n",
              "  </tbody>\n",
              "</table>\n",
              "<p>395 rows × 33 columns</p>\n",
              "</div>\n",
              "      <button class=\"colab-df-convert\" onclick=\"convertToInteractive('df-c2bd3720-cdf4-4412-a1c0-b6d23fc77af6')\"\n",
              "              title=\"Convert this dataframe to an interactive table.\"\n",
              "              style=\"display:none;\">\n",
              "        \n",
              "  <svg xmlns=\"http://www.w3.org/2000/svg\" height=\"24px\"viewBox=\"0 0 24 24\"\n",
              "       width=\"24px\">\n",
              "    <path d=\"M0 0h24v24H0V0z\" fill=\"none\"/>\n",
              "    <path d=\"M18.56 5.44l.94 2.06.94-2.06 2.06-.94-2.06-.94-.94-2.06-.94 2.06-2.06.94zm-11 1L8.5 8.5l.94-2.06 2.06-.94-2.06-.94L8.5 2.5l-.94 2.06-2.06.94zm10 10l.94 2.06.94-2.06 2.06-.94-2.06-.94-.94-2.06-.94 2.06-2.06.94z\"/><path d=\"M17.41 7.96l-1.37-1.37c-.4-.4-.92-.59-1.43-.59-.52 0-1.04.2-1.43.59L10.3 9.45l-7.72 7.72c-.78.78-.78 2.05 0 2.83L4 21.41c.39.39.9.59 1.41.59.51 0 1.02-.2 1.41-.59l7.78-7.78 2.81-2.81c.8-.78.8-2.07 0-2.86zM5.41 20L4 18.59l7.72-7.72 1.47 1.35L5.41 20z\"/>\n",
              "  </svg>\n",
              "      </button>\n",
              "      \n",
              "  <style>\n",
              "    .colab-df-container {\n",
              "      display:flex;\n",
              "      flex-wrap:wrap;\n",
              "      gap: 12px;\n",
              "    }\n",
              "\n",
              "    .colab-df-convert {\n",
              "      background-color: #E8F0FE;\n",
              "      border: none;\n",
              "      border-radius: 50%;\n",
              "      cursor: pointer;\n",
              "      display: none;\n",
              "      fill: #1967D2;\n",
              "      height: 32px;\n",
              "      padding: 0 0 0 0;\n",
              "      width: 32px;\n",
              "    }\n",
              "\n",
              "    .colab-df-convert:hover {\n",
              "      background-color: #E2EBFA;\n",
              "      box-shadow: 0px 1px 2px rgba(60, 64, 67, 0.3), 0px 1px 3px 1px rgba(60, 64, 67, 0.15);\n",
              "      fill: #174EA6;\n",
              "    }\n",
              "\n",
              "    [theme=dark] .colab-df-convert {\n",
              "      background-color: #3B4455;\n",
              "      fill: #D2E3FC;\n",
              "    }\n",
              "\n",
              "    [theme=dark] .colab-df-convert:hover {\n",
              "      background-color: #434B5C;\n",
              "      box-shadow: 0px 1px 3px 1px rgba(0, 0, 0, 0.15);\n",
              "      filter: drop-shadow(0px 1px 2px rgba(0, 0, 0, 0.3));\n",
              "      fill: #FFFFFF;\n",
              "    }\n",
              "  </style>\n",
              "\n",
              "      <script>\n",
              "        const buttonEl =\n",
              "          document.querySelector('#df-c2bd3720-cdf4-4412-a1c0-b6d23fc77af6 button.colab-df-convert');\n",
              "        buttonEl.style.display =\n",
              "          google.colab.kernel.accessAllowed ? 'block' : 'none';\n",
              "\n",
              "        async function convertToInteractive(key) {\n",
              "          const element = document.querySelector('#df-c2bd3720-cdf4-4412-a1c0-b6d23fc77af6');\n",
              "          const dataTable =\n",
              "            await google.colab.kernel.invokeFunction('convertToInteractive',\n",
              "                                                     [key], {});\n",
              "          if (!dataTable) return;\n",
              "\n",
              "          const docLinkHtml = 'Like what you see? Visit the ' +\n",
              "            '<a target=\"_blank\" href=https://colab.research.google.com/notebooks/data_table.ipynb>data table notebook</a>'\n",
              "            + ' to learn more about interactive tables.';\n",
              "          element.innerHTML = '';\n",
              "          dataTable['output_type'] = 'display_data';\n",
              "          await google.colab.output.renderOutput(dataTable, element);\n",
              "          const docLink = document.createElement('div');\n",
              "          docLink.innerHTML = docLinkHtml;\n",
              "          element.appendChild(docLink);\n",
              "        }\n",
              "      </script>\n",
              "    </div>\n",
              "  </div>\n",
              "  "
            ],
            "text/plain": [
              "     school    sex    age  address  famsize  Pstatus   Medu   Fedu   Mjob  \\\n",
              "0     False  False  False    False    False    False  False  False  False   \n",
              "1     False  False  False    False    False    False  False  False  False   \n",
              "2     False  False  False    False    False    False  False  False  False   \n",
              "3     False  False  False    False    False    False  False  False  False   \n",
              "4     False  False  False    False    False    False  False  False  False   \n",
              "..      ...    ...    ...      ...      ...      ...    ...    ...    ...   \n",
              "390   False  False  False    False    False    False  False  False  False   \n",
              "391   False  False  False    False    False    False  False  False  False   \n",
              "392   False  False  False    False    False    False  False  False  False   \n",
              "393   False  False  False    False    False    False  False  False  False   \n",
              "394   False  False  False    False    False    False  False  False  False   \n",
              "\n",
              "      Fjob  ...  famrel  freetime  goout   Dalc   Walc  health  absences  \\\n",
              "0    False  ...   False     False  False  False  False   False     False   \n",
              "1    False  ...   False     False  False  False  False   False     False   \n",
              "2    False  ...   False     False  False  False  False   False     False   \n",
              "3    False  ...   False     False  False  False  False   False     False   \n",
              "4    False  ...   False     False  False  False  False   False     False   \n",
              "..     ...  ...     ...       ...    ...    ...    ...     ...       ...   \n",
              "390  False  ...   False     False  False  False  False   False     False   \n",
              "391  False  ...   False     False  False  False  False   False     False   \n",
              "392  False  ...   False     False  False  False  False   False     False   \n",
              "393  False  ...   False     False  False  False  False   False     False   \n",
              "394  False  ...   False     False  False  False  False   False     False   \n",
              "\n",
              "        G1     G2     G3  \n",
              "0    False  False  False  \n",
              "1    False  False  False  \n",
              "2    False  False  False  \n",
              "3    False  False  False  \n",
              "4    False  False  False  \n",
              "..     ...    ...    ...  \n",
              "390  False  False  False  \n",
              "391  False  False  False  \n",
              "392  False  False  False  \n",
              "393  False  False  False  \n",
              "394  False  False  False  \n",
              "\n",
              "[395 rows x 33 columns]"
            ]
          },
          "execution_count": 7,
          "metadata": {},
          "output_type": "execute_result"
        }
      ],
      "source": [
        "#Checks whether the values in the columns are null or not\n",
        "coursework_data.isnull()"
      ]
    },
    {
      "cell_type": "markdown",
      "metadata": {
        "id": "Y01UQflzKrFV"
      },
      "source": [
        "* Here, the program checks the datatypes of the columns present in the dataset. We can find diffent datatypes such that; object, int64 inside the coursework_data."
      ]
    },
    {
      "cell_type": "code",
      "execution_count": null,
      "metadata": {
        "colab": {
          "base_uri": "https://localhost:8080/"
        },
        "id": "Yus9jRj3Jayz",
        "outputId": "522bba58-453b-4874-bb06-e33e45d69283"
      },
      "outputs": [
        {
          "data": {
            "text/plain": [
              "school        object\n",
              "sex           object\n",
              "age            int64\n",
              "address       object\n",
              "famsize       object\n",
              "Pstatus       object\n",
              "Medu          object\n",
              "Fedu          object\n",
              "Mjob          object\n",
              "Fjob          object\n",
              "reason        object\n",
              "guardian      object\n",
              "traveltime    object\n",
              "studytime     object\n",
              "failures       int64\n",
              "schoolsup     object\n",
              "famsup        object\n",
              "paid          object\n",
              "activities    object\n",
              "nursery       object\n",
              "higher        object\n",
              "internet      object\n",
              "romantic      object\n",
              "famrel        object\n",
              "freetime      object\n",
              "goout         object\n",
              "Dalc          object\n",
              "Walc          object\n",
              "health        object\n",
              "absences       int64\n",
              "G1             int64\n",
              "G2             int64\n",
              "G3             int64\n",
              "dtype: object"
            ]
          },
          "execution_count": 8,
          "metadata": {},
          "output_type": "execute_result"
        }
      ],
      "source": [
        "#Checks the datatypes of the columns\n",
        "coursework_data.dtypes"
      ]
    },
    {
      "cell_type": "markdown",
      "metadata": {
        "id": "OsDGUFXUGpqX"
      },
      "source": [
        "## B. Data Transformation\n",
        "Write code to transform variables according to the following instructions:\n"
      ]
    },
    {
      "cell_type": "markdown",
      "metadata": {
        "id": "71pU9D9wKVq6"
      },
      "source": [
        "1. ”school”, ”sex”, ”address”, ”schoolsup”, ”famsup”, ”activites”, ”nursery”, ”internet”, and ”romantic” into binary: 0 or 1 (create new columns without overwriting the existing ones)."
      ]
    },
    {
      "cell_type": "markdown",
      "metadata": {
        "id": "WkR2N9khMyhz"
      },
      "source": [
        "* For school: First, checking the data avaibale in school column that are; GP and MS which are the two schools with datatype object. By the question, a new variable for column is created named new_school that replaces GP with 1 and MP with 0 in a new column. Lastly, the data is printed as shown below."
      ]
    },
    {
      "cell_type": "code",
      "execution_count": null,
      "metadata": {
        "colab": {
          "base_uri": "https://localhost:8080/"
        },
        "id": "51vdu8PbKycY",
        "outputId": "5f4336ef-0dc3-492c-d408-7e50428a0734"
      },
      "outputs": [
        {
          "data": {
            "text/plain": [
              "array(['GP', 'MS'], dtype=object)"
            ]
          },
          "execution_count": 9,
          "metadata": {},
          "output_type": "execute_result"
        }
      ],
      "source": [
        "#Checking data from the dataset inside school column\n",
        "coursework_data['school'].unique() "
      ]
    },
    {
      "cell_type": "code",
      "execution_count": null,
      "metadata": {
        "colab": {
          "base_uri": "https://localhost:8080/"
        },
        "id": "r70T67mwLEix",
        "outputId": "7884d66c-b686-48bf-e6e2-bb4484fd36a8"
      },
      "outputs": [
        {
          "data": {
            "text/plain": [
              "0      1\n",
              "1      1\n",
              "2      1\n",
              "3      1\n",
              "4      1\n",
              "      ..\n",
              "390    0\n",
              "391    0\n",
              "392    0\n",
              "393    0\n",
              "394    0\n",
              "Name: new_school, Length: 395, dtype: int64"
            ]
          },
          "execution_count": 10,
          "metadata": {},
          "output_type": "execute_result"
        }
      ],
      "source": [
        "#Creating new column named new_school to store school's data in binary form converting the existing data\n",
        "coursework_data['new_school'] = coursework_data['school'].map({'GP': 1,'MS':0}) \n",
        "#Shows the data inside new_school\n",
        "coursework_data['new_school']\n"
      ]
    },
    {
      "cell_type": "markdown",
      "metadata": {
        "id": "VEeDKJzCM3F3"
      },
      "source": [
        "* For sex: First, checking the data avaibale in sex column that are; M and F which are the two gender with datatype object. By the question, a new variable for column is created named new_sex that replaces M with 1 and F with 0 in a new column. Lastly, the data is printed as shown below."
      ]
    },
    {
      "cell_type": "code",
      "execution_count": null,
      "metadata": {
        "colab": {
          "base_uri": "https://localhost:8080/"
        },
        "id": "2xKc9AUIM5XI",
        "outputId": "ac2a592c-58b6-49dd-d25a-7bbc31a32813"
      },
      "outputs": [
        {
          "data": {
            "text/plain": [
              "array(['F', 'M'], dtype=object)"
            ]
          },
          "execution_count": 11,
          "metadata": {},
          "output_type": "execute_result"
        }
      ],
      "source": [
        "#Checking data from the dataset inside sex column\n",
        "coursework_data['sex'].unique()"
      ]
    },
    {
      "cell_type": "code",
      "execution_count": null,
      "metadata": {
        "colab": {
          "base_uri": "https://localhost:8080/"
        },
        "id": "Myhf1sI7NAUG",
        "outputId": "5403656b-dd08-4723-8d0c-e344ae459aa3"
      },
      "outputs": [
        {
          "data": {
            "text/plain": [
              "0      0\n",
              "1      0\n",
              "2      0\n",
              "3      0\n",
              "4      0\n",
              "      ..\n",
              "390    1\n",
              "391    1\n",
              "392    1\n",
              "393    1\n",
              "394    1\n",
              "Name: new_sex, Length: 395, dtype: int64"
            ]
          },
          "execution_count": 12,
          "metadata": {},
          "output_type": "execute_result"
        }
      ],
      "source": [
        "#Creating new column named new_sex to store sex's data in binary form converting the existing data\n",
        "coursework_data['new_sex'] = coursework_data['sex'].map({'M': 1,'F':0})\n",
        "#Shows the data inside new_school\n",
        "coursework_data['new_sex']"
      ]
    },
    {
      "cell_type": "markdown",
      "metadata": {
        "id": "Kd3QcXMiNtKz"
      },
      "source": [
        "* For address: First, checking the data avaibale in address column that are; U and R which are the two addresses with datatype object. By the question, a new variable for column is created named new_address that replaces U with 1 and R with 0 in a new column. Lastly, the data is printed as shown below."
      ]
    },
    {
      "cell_type": "code",
      "execution_count": null,
      "metadata": {
        "colab": {
          "base_uri": "https://localhost:8080/"
        },
        "id": "5Zf30PN4N1tD",
        "outputId": "5eaadab4-0a87-478d-d82d-c3f84a914f82"
      },
      "outputs": [
        {
          "data": {
            "text/plain": [
              "array(['U', 'R'], dtype=object)"
            ]
          },
          "execution_count": 13,
          "metadata": {},
          "output_type": "execute_result"
        }
      ],
      "source": [
        "#Checking data from the dataset inside address column\n",
        "coursework_data['address'].unique()"
      ]
    },
    {
      "cell_type": "code",
      "execution_count": null,
      "metadata": {
        "colab": {
          "base_uri": "https://localhost:8080/"
        },
        "id": "WEAxsxa0Nsxk",
        "outputId": "082bb6a6-7476-4d90-b8a7-b9e55e18904f"
      },
      "outputs": [
        {
          "data": {
            "text/plain": [
              "0      1\n",
              "1      1\n",
              "2      1\n",
              "3      1\n",
              "4      1\n",
              "      ..\n",
              "390    1\n",
              "391    1\n",
              "392    0\n",
              "393    0\n",
              "394    1\n",
              "Name: new_address, Length: 395, dtype: int64"
            ]
          },
          "execution_count": 14,
          "metadata": {},
          "output_type": "execute_result"
        }
      ],
      "source": [
        "#Creating new column named new_address to store address's data in binary form converting the existing data\n",
        "coursework_data['new_address'] = coursework_data['address'].map({'U': 1,'R':0})\n",
        "#Shows the data inside new_address\n",
        "coursework_data['new_address']"
      ]
    },
    {
      "cell_type": "markdown",
      "metadata": {
        "id": "fl_YSSNsOBD1"
      },
      "source": [
        "* For schoolsup: First, checking the data avaibale in address column that are; yes and no which are the two schoolsup with datatype object. By the question, a new variable for column is created named new_schoolsup that replaces yes with 1 and no with 0 in a new column. Lastly, the data is printed as shown below."
      ]
    },
    {
      "cell_type": "code",
      "execution_count": null,
      "metadata": {
        "colab": {
          "base_uri": "https://localhost:8080/"
        },
        "id": "WOkYeV0HOIP3",
        "outputId": "e6fbacc9-51de-4744-c340-6fd7efe21277"
      },
      "outputs": [
        {
          "data": {
            "text/plain": [
              "array(['yes', 'no'], dtype=object)"
            ]
          },
          "execution_count": 15,
          "metadata": {},
          "output_type": "execute_result"
        }
      ],
      "source": [
        "#Checking data from the dataset inside schoolsup column\n",
        "coursework_data['schoolsup'].unique()"
      ]
    },
    {
      "cell_type": "code",
      "execution_count": null,
      "metadata": {
        "colab": {
          "base_uri": "https://localhost:8080/"
        },
        "id": "Lr4FeU--ONlH",
        "outputId": "966fb913-316a-4e00-b0a4-f44031b50a26"
      },
      "outputs": [
        {
          "data": {
            "text/plain": [
              "0      1\n",
              "1      0\n",
              "2      1\n",
              "3      0\n",
              "4      0\n",
              "      ..\n",
              "390    0\n",
              "391    0\n",
              "392    0\n",
              "393    0\n",
              "394    0\n",
              "Name: new_schoolsup, Length: 395, dtype: int64"
            ]
          },
          "execution_count": 16,
          "metadata": {},
          "output_type": "execute_result"
        }
      ],
      "source": [
        "#Creating new column named new_schoolsup to store schoolsup's data in binary form converting the existing data\n",
        "coursework_data['new_schoolsup'] = coursework_data['schoolsup'].map({'yes': 1,'no':0})\n",
        "#Shows the data inside new_schoolsup\n",
        "coursework_data['new_schoolsup']"
      ]
    },
    {
      "cell_type": "markdown",
      "metadata": {
        "id": "pfuhM9K8OmEk"
      },
      "source": [
        "* For famsup: First, checking the data avaibale in famsup column that are; yes and no which are the two famsup data with datatype object. By the question, a new variable for column is created named new_famsup that replaces yes with 1 and no with 0 in a new column. Lastly, the data is printed as shown below."
      ]
    },
    {
      "cell_type": "code",
      "execution_count": null,
      "metadata": {
        "colab": {
          "base_uri": "https://localhost:8080/"
        },
        "id": "lQeWAX-vOuth",
        "outputId": "0dc73594-424f-412e-ea18-17aefc462602"
      },
      "outputs": [
        {
          "data": {
            "text/plain": [
              "array(['no', 'yes'], dtype=object)"
            ]
          },
          "execution_count": 17,
          "metadata": {},
          "output_type": "execute_result"
        }
      ],
      "source": [
        "#Checking data from the dataset inside famsup column\n",
        "coursework_data['famsup'].unique()"
      ]
    },
    {
      "cell_type": "code",
      "execution_count": null,
      "metadata": {
        "colab": {
          "base_uri": "https://localhost:8080/"
        },
        "id": "U2bSoYbAQKEV",
        "outputId": "134e006a-466a-4507-a587-f3b61f9ce625"
      },
      "outputs": [
        {
          "data": {
            "text/plain": [
              "0      0\n",
              "1      1\n",
              "2      0\n",
              "3      1\n",
              "4      1\n",
              "      ..\n",
              "390    1\n",
              "391    0\n",
              "392    0\n",
              "393    0\n",
              "394    0\n",
              "Name: new_famsup, Length: 395, dtype: int64"
            ]
          },
          "execution_count": 18,
          "metadata": {},
          "output_type": "execute_result"
        }
      ],
      "source": [
        "#Creating new column named new_famsup to store famsup's data in binary form converting the existing data\n",
        "coursework_data['new_famsup'] = coursework_data['famsup'].map({'yes': 1,'no':0})\n",
        "#Shows the data inside new_famsup\n",
        "coursework_data['new_famsup']"
      ]
    },
    {
      "cell_type": "markdown",
      "metadata": {
        "id": "vZMgPGSAQ3wK"
      },
      "source": [
        "* For activities: First, checking the data avaibale in activities column that are; yes and no which are the two activities data with datatype object. By the question, a new variable for column is created named new_activities that replaces yes with 1 and no with 0 in a new column. Lastly, the data is printed as shown below."
      ]
    },
    {
      "cell_type": "code",
      "execution_count": null,
      "metadata": {
        "colab": {
          "base_uri": "https://localhost:8080/"
        },
        "id": "EBh-phPNQ77y",
        "outputId": "c1d0fd2e-7de2-48cd-ded9-b3985d190ffd"
      },
      "outputs": [
        {
          "data": {
            "text/plain": [
              "array(['no', 'yes'], dtype=object)"
            ]
          },
          "execution_count": 19,
          "metadata": {},
          "output_type": "execute_result"
        }
      ],
      "source": [
        "#Checking data from the dataset inside activities column\n",
        "coursework_data['activities'].unique()"
      ]
    },
    {
      "cell_type": "code",
      "execution_count": null,
      "metadata": {
        "colab": {
          "base_uri": "https://localhost:8080/"
        },
        "id": "bugfXLXWRCEP",
        "outputId": "f85a362b-b2f7-4885-9077-5b267f782b9e"
      },
      "outputs": [
        {
          "data": {
            "text/plain": [
              "0      0\n",
              "1      0\n",
              "2      0\n",
              "3      1\n",
              "4      0\n",
              "      ..\n",
              "390    0\n",
              "391    0\n",
              "392    0\n",
              "393    0\n",
              "394    0\n",
              "Name: new_activities, Length: 395, dtype: int64"
            ]
          },
          "execution_count": 20,
          "metadata": {},
          "output_type": "execute_result"
        }
      ],
      "source": [
        "#Creating new column named new_activities to store activities's data in binary form converting the existing data\n",
        "coursework_data['new_activities'] = coursework_data['activities'].map({'yes': 1,'no':0})\n",
        "#Shows the data inside new_activities\n",
        "coursework_data['new_activities']"
      ]
    },
    {
      "cell_type": "markdown",
      "metadata": {
        "id": "v4DPEAXZK5CB"
      },
      "source": [
        "* For nursery: First, checking the data avaibale in nursery column that are; yes and no which are the two nursery data with datatype object. By the question, a new variable for column is created named new_nursery that replaces yes with 1 and no with 0 in a new column. Lastly, the data is printed as shown below."
      ]
    },
    {
      "cell_type": "code",
      "execution_count": null,
      "metadata": {
        "colab": {
          "base_uri": "https://localhost:8080/"
        },
        "id": "QVEDxZX0Kxh9",
        "outputId": "aaf42dd0-c194-4ac0-b682-1392096194ba"
      },
      "outputs": [
        {
          "data": {
            "text/plain": [
              "array(['yes', 'no'], dtype=object)"
            ]
          },
          "execution_count": 21,
          "metadata": {},
          "output_type": "execute_result"
        }
      ],
      "source": [
        "#Checking data from the dataset inside nursery column\n",
        "coursework_data['nursery'].unique()"
      ]
    },
    {
      "cell_type": "code",
      "execution_count": null,
      "metadata": {
        "colab": {
          "base_uri": "https://localhost:8080/"
        },
        "id": "aUqDxYXsLE64",
        "outputId": "7e584ee6-ce0f-434b-99e4-6ad3645d8290"
      },
      "outputs": [
        {
          "data": {
            "text/plain": [
              "0      1\n",
              "1      0\n",
              "2      1\n",
              "3      1\n",
              "4      1\n",
              "      ..\n",
              "390    1\n",
              "391    0\n",
              "392    0\n",
              "393    0\n",
              "394    1\n",
              "Name: new_nursery, Length: 395, dtype: int64"
            ]
          },
          "execution_count": 22,
          "metadata": {},
          "output_type": "execute_result"
        }
      ],
      "source": [
        "#Creating new column named new_nursery to store nursery's data in binary form converting the existing data\n",
        "coursework_data['new_nursery'] = coursework_data['nursery'].map({'yes': 1,'no':0})\n",
        "#Shows the data inside new_nursery\n",
        "coursework_data['new_nursery']"
      ]
    },
    {
      "cell_type": "markdown",
      "metadata": {
        "id": "tjTCndpWK7U6"
      },
      "source": [
        "* For internet: First, checking the data avaibale in internet column that are; yes and no which are the two internet data with datatype object. By the question, a new variable for column is created named new_internet that replaces yes with 1 and no with 0 in a new column. Lastly, the data is printed as shown below."
      ]
    },
    {
      "cell_type": "code",
      "execution_count": null,
      "metadata": {
        "colab": {
          "base_uri": "https://localhost:8080/"
        },
        "id": "DM8CpIdzLsZk",
        "outputId": "0452155a-6c88-419c-a783-d7e0a93ffa96"
      },
      "outputs": [
        {
          "data": {
            "text/plain": [
              "array(['no', 'yes'], dtype=object)"
            ]
          },
          "execution_count": 23,
          "metadata": {},
          "output_type": "execute_result"
        }
      ],
      "source": [
        "#Checking data from the dataset inside internet column\n",
        "coursework_data['internet'].unique()"
      ]
    },
    {
      "cell_type": "code",
      "execution_count": null,
      "metadata": {
        "colab": {
          "base_uri": "https://localhost:8080/"
        },
        "id": "xuMOh2YWLyfv",
        "outputId": "531c5634-f82a-4f22-db9b-6be65d23f827"
      },
      "outputs": [
        {
          "data": {
            "text/plain": [
              "0      0\n",
              "1      1\n",
              "2      1\n",
              "3      1\n",
              "4      0\n",
              "      ..\n",
              "390    0\n",
              "391    1\n",
              "392    0\n",
              "393    1\n",
              "394    1\n",
              "Name: new_internet, Length: 395, dtype: int64"
            ]
          },
          "execution_count": 24,
          "metadata": {},
          "output_type": "execute_result"
        }
      ],
      "source": [
        "#Creating new column named new_internet to store internet's data in binary form converting the existing data\n",
        "coursework_data['new_internet'] = coursework_data['internet'].map({'yes': 1,'no':0})\n",
        "#Shows the data inside new_internet\n",
        "coursework_data['new_internet']"
      ]
    },
    {
      "cell_type": "markdown",
      "metadata": {
        "id": "gBGkiUUfK82X"
      },
      "source": [
        "* For romantic: First, checking the data avaibale in romantic column that are; yes and no which are the two romantic data with datatype object. By the question, a new variable for column is created named new_romantic that replaces yes with 1 and no with 0 in a new column. Lastly, the data is printed as shown below."
      ]
    },
    {
      "cell_type": "code",
      "execution_count": null,
      "metadata": {
        "colab": {
          "base_uri": "https://localhost:8080/"
        },
        "id": "f4qQsxEBKy1E",
        "outputId": "30a6689e-4807-48fc-f213-5e3fba5f2e8b"
      },
      "outputs": [
        {
          "data": {
            "text/plain": [
              "array(['no', 'yes'], dtype=object)"
            ]
          },
          "execution_count": 25,
          "metadata": {},
          "output_type": "execute_result"
        }
      ],
      "source": [
        "#Checking data from the dataset inside romantic column\n",
        "coursework_data['romantic'].unique()"
      ]
    },
    {
      "cell_type": "code",
      "execution_count": null,
      "metadata": {
        "colab": {
          "base_uri": "https://localhost:8080/"
        },
        "id": "3wBsllGzL47a",
        "outputId": "2da4ad7a-9b54-4d24-cd29-d665be82bdbc"
      },
      "outputs": [
        {
          "data": {
            "text/plain": [
              "0      0\n",
              "1      0\n",
              "2      0\n",
              "3      1\n",
              "4      0\n",
              "      ..\n",
              "390    0\n",
              "391    0\n",
              "392    0\n",
              "393    0\n",
              "394    0\n",
              "Name: new_romantic, Length: 395, dtype: int64"
            ]
          },
          "execution_count": 26,
          "metadata": {},
          "output_type": "execute_result"
        }
      ],
      "source": [
        "#Creating new column named new_romantic to store romantic's data in binary form converting the existing data\n",
        "coursework_data['new_romantic'] = coursework_data['romantic'].map({'yes': 1,'no':0})\n",
        "#Shows the data inside new_romantic\n",
        "coursework_data['new_romantic']"
      ]
    },
    {
      "cell_type": "markdown",
      "metadata": {
        "id": "g4Dx9zmVKYe8"
      },
      "source": [
        "2. ”Medu”, ”Fedu”, ”reason”, ”guardian”, ”studytime”, ”freetime”, and ”health” into ordinal numbers based on the number cases in the data set (create news columns without overwriting the existing ones)."
      ]
    },
    {
      "cell_type": "markdown",
      "metadata": {
        "id": "XVjKMe5eOmz6"
      },
      "source": [
        "* For Medu: First, checking the data avaibale in Medu column that are; 'higher education', 'primary education (4th grade)', 'secondary education', '5th to 9th grade', 'none' which are the data in Medu which means Male Education with datatype object. By the question, a new variable for column is created named new_Medu that replaces the existing values with ordinal numbers."
      ]
    },
    {
      "cell_type": "code",
      "execution_count": null,
      "metadata": {
        "colab": {
          "base_uri": "https://localhost:8080/"
        },
        "id": "z1RMtTDjRoO8",
        "outputId": "5e4ee4c3-d911-4e19-9b27-b0bba380e723"
      },
      "outputs": [
        {
          "data": {
            "text/plain": [
              "array(['higher education', 'primary education (4th grade)',\n",
              "       'secondary education', '5th to 9th grade', 'none'], dtype=object)"
            ]
          },
          "execution_count": 27,
          "metadata": {},
          "output_type": "execute_result"
        }
      ],
      "source": [
        "#Checking data from the dataset inside Medu column\n",
        "coursework_data['Medu'].unique()"
      ]
    },
    {
      "cell_type": "code",
      "execution_count": null,
      "metadata": {
        "colab": {
          "base_uri": "https://localhost:8080/"
        },
        "id": "ORpA-OjKR5oM",
        "outputId": "2ac5adcc-d290-45c3-cb9f-8115de60d8cf"
      },
      "outputs": [
        {
          "data": {
            "text/plain": [
              "0      1\n",
              "1      2\n",
              "2      2\n",
              "3      1\n",
              "4      3\n",
              "      ..\n",
              "390    4\n",
              "391    3\n",
              "392    2\n",
              "393    3\n",
              "394    2\n",
              "Name: new_Medu, Length: 395, dtype: int64"
            ]
          },
          "execution_count": 28,
          "metadata": {},
          "output_type": "execute_result"
        }
      ],
      "source": [
        "#Creating new column named new_Medu to store Medu's data in ordinal number form converting the existing data\n",
        "coursework_data['new_Medu'] = coursework_data['Medu'].map({'higher education':1, 'primary education (4th grade)':2, 'secondary education':3, '5th to 9th grade':4, 'none':5 })\n",
        "#Shows the data inside new_Medu\n",
        "coursework_data['new_Medu']"
      ]
    },
    {
      "cell_type": "markdown",
      "metadata": {
        "id": "bvXV4hT5OpNQ"
      },
      "source": [
        "* For Fedu: First, checking the data avaibale in Fedu column that are; 'higher education', 'primary education (4th grade)', 'secondary education', '5th to 9th grade', 'none' which are the data in Medu which means Female Education with datatype object. By the question, a new variable for column is created named new_Fedu that replaces the existing values with ordinal numbers.\n",
        "\n"
      ]
    },
    {
      "cell_type": "code",
      "execution_count": null,
      "metadata": {
        "colab": {
          "base_uri": "https://localhost:8080/"
        },
        "id": "Zh2UhQZ2MjhK",
        "outputId": "ff53365a-21ad-4088-be17-8a87ccb7a2e4"
      },
      "outputs": [
        {
          "data": {
            "text/plain": [
              "array(['higher education', 'primary education (4th grade)',\n",
              "       '5th to 9th grade', 'secondary education', 'none'], dtype=object)"
            ]
          },
          "execution_count": 29,
          "metadata": {},
          "output_type": "execute_result"
        }
      ],
      "source": [
        "#Checking data from the dataset inside Fedu column\n",
        "coursework_data['Fedu'].unique()"
      ]
    },
    {
      "cell_type": "code",
      "execution_count": null,
      "metadata": {
        "colab": {
          "base_uri": "https://localhost:8080/"
        },
        "id": "GwIhPbEuMtiK",
        "outputId": "13620a3b-4abd-4af5-b696-459e208c3f3b"
      },
      "outputs": [
        {
          "data": {
            "text/plain": [
              "0      1\n",
              "1      2\n",
              "2      2\n",
              "3      4\n",
              "4      3\n",
              "      ..\n",
              "390    4\n",
              "391    2\n",
              "392    2\n",
              "393    4\n",
              "394    2\n",
              "Name: new_Fedu, Length: 395, dtype: int64"
            ]
          },
          "execution_count": 30,
          "metadata": {},
          "output_type": "execute_result"
        }
      ],
      "source": [
        "#Creating new column named new_Fedu to store Fedu's data in ordinal number form converting the existing data\n",
        "coursework_data['new_Fedu'] = coursework_data['Fedu'].map({'higher education':1, 'primary education (4th grade)':2, 'secondary education':3, '5th to 9th grade':4, 'none':5 })\n",
        "#Shows the data inside new_Fedu\n",
        "coursework_data['new_Fedu']"
      ]
    },
    {
      "cell_type": "markdown",
      "metadata": {
        "id": "-jtXzTBVOrNP"
      },
      "source": [
        "* For reason: First, checking the data avaibale in reason column that are; 'course', 'other', 'home', 'reputation' which are the data in reason with datatype object. By the question, a new variable for column is created named new_reason that replaces the existing values with ordinal numbers."
      ]
    },
    {
      "cell_type": "code",
      "execution_count": null,
      "metadata": {
        "colab": {
          "base_uri": "https://localhost:8080/"
        },
        "id": "j0JwvvAPO9N2",
        "outputId": "731fda4c-5767-4764-afb1-8d0d4e77ff15"
      },
      "outputs": [
        {
          "data": {
            "text/plain": [
              "array(['course', 'other', 'home', 'reputation'], dtype=object)"
            ]
          },
          "execution_count": 31,
          "metadata": {},
          "output_type": "execute_result"
        }
      ],
      "source": [
        "#Checking data from the dataset inside reason column\n",
        "coursework_data['reason'].unique()"
      ]
    },
    {
      "cell_type": "code",
      "execution_count": null,
      "metadata": {
        "colab": {
          "base_uri": "https://localhost:8080/"
        },
        "id": "KjqdSstvO9sO",
        "outputId": "fe3686dc-4634-4a29-e3d9-630bc473d07d"
      },
      "outputs": [
        {
          "data": {
            "text/plain": [
              "0      1\n",
              "1      1\n",
              "2      2\n",
              "3      3\n",
              "4      3\n",
              "      ..\n",
              "390    1\n",
              "391    1\n",
              "392    1\n",
              "393    1\n",
              "394    1\n",
              "Name: new_reason, Length: 395, dtype: int64"
            ]
          },
          "execution_count": 32,
          "metadata": {},
          "output_type": "execute_result"
        }
      ],
      "source": [
        "#Creating new column named new_reason to store reason's data in ordinal number form converting the existing data\n",
        "coursework_data['new_reason'] = coursework_data['reason'].map({'course':1, 'other':2, 'home':3, 'reputation':4})\n",
        "#Shows the data inside new_reason\n",
        "coursework_data['new_reason']"
      ]
    },
    {
      "cell_type": "markdown",
      "metadata": {
        "id": "136AX0UZOubX"
      },
      "source": [
        "* For guardian: First, checking the data avaibale in guardian column that are;  'mother', 'father', 'other' which are the data in reason with datatype object. By the question, a new variable for column is created named new_reason that replaces the existing values with ordinal numbers.\n",
        "\n"
      ]
    },
    {
      "cell_type": "code",
      "execution_count": null,
      "metadata": {
        "colab": {
          "base_uri": "https://localhost:8080/"
        },
        "id": "3ICBMdDiPSix",
        "outputId": "a13d66bc-d639-4e11-9404-3dc11304dc11"
      },
      "outputs": [
        {
          "data": {
            "text/plain": [
              "array(['mother', 'father', 'other'], dtype=object)"
            ]
          },
          "execution_count": 33,
          "metadata": {},
          "output_type": "execute_result"
        }
      ],
      "source": [
        "#Checking data from the dataset inside guardian column\n",
        "coursework_data['guardian'].unique()"
      ]
    },
    {
      "cell_type": "code",
      "execution_count": null,
      "metadata": {
        "colab": {
          "base_uri": "https://localhost:8080/"
        },
        "id": "-qQl-DsePXRq",
        "outputId": "1e46d60e-6786-476f-99ab-6c0af473b9dd"
      },
      "outputs": [
        {
          "data": {
            "text/plain": [
              "0      1\n",
              "1      2\n",
              "2      1\n",
              "3      1\n",
              "4      2\n",
              "      ..\n",
              "390    3\n",
              "391    1\n",
              "392    3\n",
              "393    1\n",
              "394    2\n",
              "Name: new_guardian, Length: 395, dtype: int64"
            ]
          },
          "execution_count": 34,
          "metadata": {},
          "output_type": "execute_result"
        }
      ],
      "source": [
        "#Creating new column named new_guardian to store guardian's data in ordinal number form converting the existing data\n",
        "coursework_data['new_guardian'] = coursework_data['guardian'].map({'mother':1, 'father':2, 'other':3})\n",
        "#Shows the data inside new_guardian\n",
        "coursework_data['new_guardian']"
      ]
    },
    {
      "cell_type": "markdown",
      "metadata": {
        "id": "j77-_2hwOyGz"
      },
      "source": [
        "* For studytime: First, checking the data avaibale in studytime column that are; '2 to 5 hours', '5 to 10 hours', '<2 hours', '>10 hours' which are the data in studytime with datatype object. By the question, a new variable for column is created named new_studytime that replaces the existing values with ordinal numbers."
      ]
    },
    {
      "cell_type": "code",
      "execution_count": null,
      "metadata": {
        "colab": {
          "base_uri": "https://localhost:8080/"
        },
        "id": "Y9HWLB1GPm0b",
        "outputId": "af705d56-ea5d-4272-ce97-aebe4d44ad2a"
      },
      "outputs": [
        {
          "data": {
            "text/plain": [
              "array(['2 to 5 hours', '5 to 10 hours', '<2 hours', '>10 hours'],\n",
              "      dtype=object)"
            ]
          },
          "execution_count": 35,
          "metadata": {},
          "output_type": "execute_result"
        }
      ],
      "source": [
        "#Checking data from the dataset inside studytime column\n",
        "coursework_data['studytime'].unique()"
      ]
    },
    {
      "cell_type": "code",
      "execution_count": null,
      "metadata": {
        "colab": {
          "base_uri": "https://localhost:8080/"
        },
        "id": "Xy-p-EeGPrUS",
        "outputId": "d90e9358-1cd8-435f-a591-729490175274"
      },
      "outputs": [
        {
          "data": {
            "text/plain": [
              "0      1\n",
              "1      1\n",
              "2      1\n",
              "3      2\n",
              "4      1\n",
              "      ..\n",
              "390    1\n",
              "391    3\n",
              "392    3\n",
              "393    3\n",
              "394    3\n",
              "Name: new_studytime, Length: 395, dtype: int64"
            ]
          },
          "execution_count": 36,
          "metadata": {},
          "output_type": "execute_result"
        }
      ],
      "source": [
        "#Creating new column named new_studytime to store studytime's data in ordinal number form converting the existing data\n",
        "coursework_data['new_studytime'] = coursework_data['studytime'].map({'2 to 5 hours':1, '5 to 10 hours':2, '<2 hours':3, '>10 hours':4})\n",
        "#Shows the data inside new_studytime\n",
        "coursework_data['new_studytime']"
      ]
    },
    {
      "cell_type": "markdown",
      "metadata": {
        "id": "BsrWwuKyO2iu"
      },
      "source": [
        "* For freetime: First, checking the data avaibale in freetime column that are;  'medium', 'low', 'high', 'very low', 'very high' which are the data in freetime with datatype object. By the question, a new variable for column is created named new_freetime that replaces the existing values with ordinal numbers."
      ]
    },
    {
      "cell_type": "code",
      "execution_count": null,
      "metadata": {
        "colab": {
          "base_uri": "https://localhost:8080/"
        },
        "id": "CzYF5MyWQCkM",
        "outputId": "18610637-26d1-4e91-a408-b03d7689da4e"
      },
      "outputs": [
        {
          "data": {
            "text/plain": [
              "array(['medium', 'low', 'high', 'very low', 'very high'], dtype=object)"
            ]
          },
          "execution_count": 37,
          "metadata": {},
          "output_type": "execute_result"
        }
      ],
      "source": [
        "#Checking data from the dataset inside freetime column\n",
        "coursework_data['freetime'].unique()"
      ]
    },
    {
      "cell_type": "code",
      "execution_count": null,
      "metadata": {
        "colab": {
          "base_uri": "https://localhost:8080/"
        },
        "id": "0bXEMhqGQI3T",
        "outputId": "ae42ea9d-c217-4633-b616-1d39e7cc8fbb"
      },
      "outputs": [
        {
          "data": {
            "text/plain": [
              "0      1\n",
              "1      1\n",
              "2      1\n",
              "3      2\n",
              "4      1\n",
              "      ..\n",
              "390    5\n",
              "391    3\n",
              "392    5\n",
              "393    3\n",
              "394    2\n",
              "Name: new_freetime, Length: 395, dtype: int64"
            ]
          },
          "execution_count": 38,
          "metadata": {},
          "output_type": "execute_result"
        }
      ],
      "source": [
        "#Creating new column named new_freetime to store freetime's data in ordinal number form converting the existing data\n",
        "coursework_data['new_freetime'] = coursework_data['freetime'].map({'medium':1, 'low':2, 'high':3, 'very low':4, 'very high':5})\n",
        "#Shows the data inside new_freetime\n",
        "coursework_data['new_freetime']"
      ]
    },
    {
      "cell_type": "markdown",
      "metadata": {
        "id": "2DEanI-wO4z4"
      },
      "source": [
        "* For health: First, checking the data avaibale in health column that are; 'good', 'excellent', 'very bad', 'bad', 'very good' which are the data in health with datatype object. By the question, a new variable for column is created named new_health that replaces the existing values with ordinal numbers."
      ]
    },
    {
      "cell_type": "code",
      "execution_count": null,
      "metadata": {
        "colab": {
          "base_uri": "https://localhost:8080/"
        },
        "id": "0B6GPOaAM19T",
        "outputId": "adec349a-05bf-47fd-c700-0b14300262c1"
      },
      "outputs": [
        {
          "data": {
            "text/plain": [
              "array(['good', 'excellent', 'very bad', 'bad', 'very good'], dtype=object)"
            ]
          },
          "execution_count": 39,
          "metadata": {},
          "output_type": "execute_result"
        }
      ],
      "source": [
        "#Checking data from the dataset inside health column\n",
        "coursework_data['health'].unique()"
      ]
    },
    {
      "cell_type": "code",
      "execution_count": null,
      "metadata": {
        "colab": {
          "base_uri": "https://localhost:8080/"
        },
        "id": "JB4F-VAaOjP8",
        "outputId": "1db6d510-ddeb-4719-eb75-415b3b631c17"
      },
      "outputs": [
        {
          "data": {
            "text/plain": [
              "0      1\n",
              "1      1\n",
              "2      1\n",
              "3      2\n",
              "4      2\n",
              "      ..\n",
              "390    5\n",
              "391    4\n",
              "392    1\n",
              "393    2\n",
              "394    2\n",
              "Name: new_health, Length: 395, dtype: int64"
            ]
          },
          "execution_count": 40,
          "metadata": {},
          "output_type": "execute_result"
        }
      ],
      "source": [
        "#Creating new column named new_health to store health's data in ordinal number form converting the existing data\n",
        "coursework_data['new_health'] = coursework_data['health'].map({'good':1, 'excellent':2, 'very bad':3, 'bad':4, 'very good':5})\n",
        "#Shows the data inside new_health\n",
        "coursework_data['new_health']"
      ]
    },
    {
      "cell_type": "markdown",
      "metadata": {
        "id": "woqKnfxEKhrh"
      },
      "source": [
        "3. Convert column ”age” to interval datatype. i.e. Create a new column name category age whose values should be based on the frequency in the column ”age”, You can create categorical data with following interval.\n",
        "* (a) interval1: [15-17] \n",
        "* (b) interval2: [18-20] \n",
        "* (c) interval3: [21-all]"
      ]
    },
    {
      "cell_type": "markdown",
      "metadata": {
        "id": "JSs_YXz2avU3"
      },
      "source": [
        "* First, we need to create a variable named new_age with empty array for this question, then using for loop condition the program must iterate the values stored for age and then change the values accordingly. According to the question, we should create a new column named categoty_age where the values is based on three different intervals, interval1: [15-17], interval2: [18-20], interval3: [21-all]. Lastly the final data in column passed is shown from new_age dataset."
      ]
    },
    {
      "cell_type": "code",
      "execution_count": null,
      "metadata": {
        "colab": {
          "base_uri": "https://localhost:8080/",
          "height": 424
        },
        "id": "jb-Ke86yddDD",
        "outputId": "83f27084-14a0-4be7-a59a-c25246f782b7"
      },
      "outputs": [
        {
          "data": {
            "text/html": [
              "\n",
              "  <div id=\"df-52148bec-b299-465c-824d-852245b650e5\">\n",
              "    <div class=\"colab-df-container\">\n",
              "      <div>\n",
              "<style scoped>\n",
              "    .dataframe tbody tr th:only-of-type {\n",
              "        vertical-align: middle;\n",
              "    }\n",
              "\n",
              "    .dataframe tbody tr th {\n",
              "        vertical-align: top;\n",
              "    }\n",
              "\n",
              "    .dataframe thead th {\n",
              "        text-align: right;\n",
              "    }\n",
              "</style>\n",
              "<table border=\"1\" class=\"dataframe\">\n",
              "  <thead>\n",
              "    <tr style=\"text-align: right;\">\n",
              "      <th></th>\n",
              "      <th>category_Age</th>\n",
              "      <th>age</th>\n",
              "    </tr>\n",
              "  </thead>\n",
              "  <tbody>\n",
              "    <tr>\n",
              "      <th>0</th>\n",
              "      <td>interval2:[18-20]</td>\n",
              "      <td>18</td>\n",
              "    </tr>\n",
              "    <tr>\n",
              "      <th>1</th>\n",
              "      <td>interval1:[15-17]</td>\n",
              "      <td>17</td>\n",
              "    </tr>\n",
              "    <tr>\n",
              "      <th>2</th>\n",
              "      <td>interval1:[15-17]</td>\n",
              "      <td>15</td>\n",
              "    </tr>\n",
              "    <tr>\n",
              "      <th>3</th>\n",
              "      <td>interval1:[15-17]</td>\n",
              "      <td>15</td>\n",
              "    </tr>\n",
              "    <tr>\n",
              "      <th>4</th>\n",
              "      <td>interval1:[15-17]</td>\n",
              "      <td>16</td>\n",
              "    </tr>\n",
              "    <tr>\n",
              "      <th>...</th>\n",
              "      <td>...</td>\n",
              "      <td>...</td>\n",
              "    </tr>\n",
              "    <tr>\n",
              "      <th>390</th>\n",
              "      <td>interval2:[18-20]</td>\n",
              "      <td>20</td>\n",
              "    </tr>\n",
              "    <tr>\n",
              "      <th>391</th>\n",
              "      <td>interval1:[15-17]</td>\n",
              "      <td>17</td>\n",
              "    </tr>\n",
              "    <tr>\n",
              "      <th>392</th>\n",
              "      <td>interval3:[21-all]</td>\n",
              "      <td>21</td>\n",
              "    </tr>\n",
              "    <tr>\n",
              "      <th>393</th>\n",
              "      <td>interval2:[18-20]</td>\n",
              "      <td>18</td>\n",
              "    </tr>\n",
              "    <tr>\n",
              "      <th>394</th>\n",
              "      <td>interval2:[18-20]</td>\n",
              "      <td>19</td>\n",
              "    </tr>\n",
              "  </tbody>\n",
              "</table>\n",
              "<p>395 rows × 2 columns</p>\n",
              "</div>\n",
              "      <button class=\"colab-df-convert\" onclick=\"convertToInteractive('df-52148bec-b299-465c-824d-852245b650e5')\"\n",
              "              title=\"Convert this dataframe to an interactive table.\"\n",
              "              style=\"display:none;\">\n",
              "        \n",
              "  <svg xmlns=\"http://www.w3.org/2000/svg\" height=\"24px\"viewBox=\"0 0 24 24\"\n",
              "       width=\"24px\">\n",
              "    <path d=\"M0 0h24v24H0V0z\" fill=\"none\"/>\n",
              "    <path d=\"M18.56 5.44l.94 2.06.94-2.06 2.06-.94-2.06-.94-.94-2.06-.94 2.06-2.06.94zm-11 1L8.5 8.5l.94-2.06 2.06-.94-2.06-.94L8.5 2.5l-.94 2.06-2.06.94zm10 10l.94 2.06.94-2.06 2.06-.94-2.06-.94-.94-2.06-.94 2.06-2.06.94z\"/><path d=\"M17.41 7.96l-1.37-1.37c-.4-.4-.92-.59-1.43-.59-.52 0-1.04.2-1.43.59L10.3 9.45l-7.72 7.72c-.78.78-.78 2.05 0 2.83L4 21.41c.39.39.9.59 1.41.59.51 0 1.02-.2 1.41-.59l7.78-7.78 2.81-2.81c.8-.78.8-2.07 0-2.86zM5.41 20L4 18.59l7.72-7.72 1.47 1.35L5.41 20z\"/>\n",
              "  </svg>\n",
              "      </button>\n",
              "      \n",
              "  <style>\n",
              "    .colab-df-container {\n",
              "      display:flex;\n",
              "      flex-wrap:wrap;\n",
              "      gap: 12px;\n",
              "    }\n",
              "\n",
              "    .colab-df-convert {\n",
              "      background-color: #E8F0FE;\n",
              "      border: none;\n",
              "      border-radius: 50%;\n",
              "      cursor: pointer;\n",
              "      display: none;\n",
              "      fill: #1967D2;\n",
              "      height: 32px;\n",
              "      padding: 0 0 0 0;\n",
              "      width: 32px;\n",
              "    }\n",
              "\n",
              "    .colab-df-convert:hover {\n",
              "      background-color: #E2EBFA;\n",
              "      box-shadow: 0px 1px 2px rgba(60, 64, 67, 0.3), 0px 1px 3px 1px rgba(60, 64, 67, 0.15);\n",
              "      fill: #174EA6;\n",
              "    }\n",
              "\n",
              "    [theme=dark] .colab-df-convert {\n",
              "      background-color: #3B4455;\n",
              "      fill: #D2E3FC;\n",
              "    }\n",
              "\n",
              "    [theme=dark] .colab-df-convert:hover {\n",
              "      background-color: #434B5C;\n",
              "      box-shadow: 0px 1px 3px 1px rgba(0, 0, 0, 0.15);\n",
              "      filter: drop-shadow(0px 1px 2px rgba(0, 0, 0, 0.3));\n",
              "      fill: #FFFFFF;\n",
              "    }\n",
              "  </style>\n",
              "\n",
              "      <script>\n",
              "        const buttonEl =\n",
              "          document.querySelector('#df-52148bec-b299-465c-824d-852245b650e5 button.colab-df-convert');\n",
              "        buttonEl.style.display =\n",
              "          google.colab.kernel.accessAllowed ? 'block' : 'none';\n",
              "\n",
              "        async function convertToInteractive(key) {\n",
              "          const element = document.querySelector('#df-52148bec-b299-465c-824d-852245b650e5');\n",
              "          const dataTable =\n",
              "            await google.colab.kernel.invokeFunction('convertToInteractive',\n",
              "                                                     [key], {});\n",
              "          if (!dataTable) return;\n",
              "\n",
              "          const docLinkHtml = 'Like what you see? Visit the ' +\n",
              "            '<a target=\"_blank\" href=https://colab.research.google.com/notebooks/data_table.ipynb>data table notebook</a>'\n",
              "            + ' to learn more about interactive tables.';\n",
              "          element.innerHTML = '';\n",
              "          dataTable['output_type'] = 'display_data';\n",
              "          await google.colab.output.renderOutput(dataTable, element);\n",
              "          const docLink = document.createElement('div');\n",
              "          docLink.innerHTML = docLinkHtml;\n",
              "          element.appendChild(docLink);\n",
              "        }\n",
              "      </script>\n",
              "    </div>\n",
              "  </div>\n",
              "  "
            ],
            "text/plain": [
              "           category_Age  age\n",
              "0     interval2:[18-20]   18\n",
              "1     interval1:[15-17]   17\n",
              "2     interval1:[15-17]   15\n",
              "3     interval1:[15-17]   15\n",
              "4     interval1:[15-17]   16\n",
              "..                  ...  ...\n",
              "390   interval2:[18-20]   20\n",
              "391   interval1:[15-17]   17\n",
              "392  interval3:[21-all]   21\n",
              "393   interval2:[18-20]   18\n",
              "394   interval2:[18-20]   19\n",
              "\n",
              "[395 rows x 2 columns]"
            ]
          },
          "execution_count": 49,
          "metadata": {},
          "output_type": "execute_result"
        }
      ],
      "source": [
        "#Creating a new column named new_age with empty array \n",
        "new_Age=[]\n",
        "#Using for loop to iterate coursework_data dataset\n",
        "for i in coursework_data.age:\n",
        "  #if condition for i is greater than equals to 15 and less than equals to 17 \n",
        "  if 15<=i<=17:\n",
        "    #Prints and then shows values in interval1\n",
        "    new_Age.append('interval1:[15-17]')\n",
        " #elif condition for i is greater than equals to 18 and less than equals to 20 \n",
        "  elif 18<=i<=20:\n",
        "    #Prints and then shows values in interval2\n",
        "    new_Age.append('interval2:[18-20]')\n",
        " #elif condition for i is higher than 20 \n",
        "  elif i>=20:\n",
        "    #Prints and then shows values in interval3\n",
        "    new_Age.append('interval3:[21-all]')\n",
        "#Stores the values in new_age\n",
        "coursework_data['category_Age'] = new_Age\n",
        "#Shows the data inside category_age and age column\n",
        "coursework_data[['category_Age','age']]"
      ]
    },
    {
      "cell_type": "markdown",
      "metadata": {
        "id": "6RPjAgggKlWz"
      },
      "source": [
        "4. Create a new column name passed (yes or no) whose values should be based on the values present in the G3 column (>= 8–yes, < −no)."
      ]
    },
    {
      "cell_type": "markdown",
      "metadata": {
        "id": "tAePyyFzqrPg"
      },
      "source": [
        "* First, we need to create a column named passed with empty array for this question, then using for loop condition the program must iterate the values stored in G3 column and then change the values accordingly. According to the question, the values greater than and equals to 8 must be replaced with yes and the values lower than 8 must be replaced with no. Lastly the final data in column passed is shown from passed dataset."
      ]
    },
    {
      "cell_type": "code",
      "execution_count": null,
      "metadata": {
        "colab": {
          "base_uri": "https://localhost:8080/"
        },
        "id": "144cj_9ZREU2",
        "outputId": "d488c71c-903a-4596-ab90-f63e4e66a994"
      },
      "outputs": [
        {
          "data": {
            "text/plain": [
              "0       no\n",
              "1       no\n",
              "2      yes\n",
              "3      yes\n",
              "4      yes\n",
              "      ... \n",
              "390    yes\n",
              "391    yes\n",
              "392     no\n",
              "393    yes\n",
              "394    yes\n",
              "Name: passed, Length: 395, dtype: object"
            ]
          },
          "execution_count": 51,
          "metadata": {},
          "output_type": "execute_result"
        }
      ],
      "source": [
        "#Creating a new column named passed with empty array \n",
        "passed = []\n",
        "#Using for loop in row of G3 column of coursework_data dataset\n",
        "for row in coursework_data['G3']:\n",
        "  #If condition that meets the value till 8 during iteration\n",
        "  if row >= 8 : \n",
        "    #Prints yes in the values greater than equals to 8\n",
        "    passed.append('yes')\n",
        "  #Else condition\n",
        "  else: \n",
        "    #Prints no for values smaller than 8\n",
        "    passed.append('no')\n",
        "#Stores the values in passed \n",
        "coursework_data['passed'] = passed\n",
        "#Shows the data inside passed column\n",
        "coursework_data['passed']"
      ]
    },
    {
      "cell_type": "markdown",
      "metadata": {
        "id": "vyQTpft0G7pT"
      },
      "source": [
        "## C. Descriptive Analysis\n",
        "Write a code to show the summary statistic (sum, mean, median, standard deviation, max, and min) of the\n",
        "variables age, absences, G1, G2, and G3)."
      ]
    },
    {
      "cell_type": "markdown",
      "metadata": {
        "id": "hC-zuwILhNHB"
      },
      "source": [
        "* For Sum: Here, the sum of the variables of age, absences, G1, G2, and G3 columns is calculated. To do so, .sum() function is used while printing the value of sum. \n",
        "\n"
      ]
    },
    {
      "cell_type": "code",
      "execution_count": null,
      "metadata": {
        "colab": {
          "base_uri": "https://localhost:8080/"
        },
        "id": "ULHD_zo5UFc9",
        "outputId": "531a3f71-217c-4577-d38f-f13781382deb"
      },
      "outputs": [
        {
          "name": "stdout",
          "output_type": "stream",
          "text": [
            "age\n",
            "Sum of age = 6595\n",
            "absences\n",
            "Sum of absences = 2255\n",
            "G1\n",
            "Sum of G1 = 4309\n",
            "G2\n",
            "Sum of G2 = 4232\n",
            "G3\n",
            "Sum of G3 = 4114\n"
          ]
        }
      ],
      "source": [
        "#Using for loop in column of coursework_data dataset\n",
        "for col in coursework_data:\n",
        "  #If condition for \"age\", \"absences\", \"G1\", \"G2\", \"G3\" columns\n",
        "  if col in [\"age\", \"absences\", \"G1\", \"G2\", \"G3\"]:\n",
        "    #Printing the column mentioned in the array above\n",
        "    print(col)\n",
        "    #Printing the sum of data inside each column in the array above for coursework_data\n",
        "    print('Sum of',col,'=',coursework_data[col].sum())"
      ]
    },
    {
      "cell_type": "markdown",
      "metadata": {
        "id": "Kf8m1q_BhQbf"
      },
      "source": [
        "* For Mean: Here, the mean of the variables of age, absences, G1, G2, and G3 columns is calculated. To do so, .mean() function is used while printing the value of mean."
      ]
    },
    {
      "cell_type": "code",
      "execution_count": null,
      "metadata": {
        "colab": {
          "base_uri": "https://localhost:8080/"
        },
        "id": "OS9dXRcphRyN",
        "outputId": "f49304bd-0c5a-4d66-dda7-f901086c764d"
      },
      "outputs": [
        {
          "name": "stdout",
          "output_type": "stream",
          "text": [
            "age\n",
            "Mean of age = 16.696202531645568\n",
            "absences\n",
            "Mean of absences = 5.708860759493671\n",
            "G1\n",
            "Mean of G1 = 10.90886075949367\n",
            "G2\n",
            "Mean of G2 = 10.713924050632912\n",
            "G3\n",
            "Mean of G3 = 10.415189873417722\n"
          ]
        }
      ],
      "source": [
        "#Using for loop in column of coursework_data dataset\n",
        "for col in coursework_data:\n",
        "  #If condition for \"age\", \"absences\", \"G1\", \"G2\", \"G3\" columns\n",
        "  if col in [\"age\", \"absences\", \"G1\", \"G2\", \"G3\"]:\n",
        "    #Printing the column mentioned in the array above\n",
        "    print(col)\n",
        "    #Printing the mean of data inside each column in the array above for coursework_data\n",
        "    print('Mean of',col,'=',coursework_data[col].mean())"
      ]
    },
    {
      "cell_type": "markdown",
      "metadata": {
        "id": "IKtQJT6riYMI"
      },
      "source": [
        "* For Median: Here, the sum of the variables of age, absences, G1, G2, and G3 columns is calculated. To do so, .median() function is used while printing the value of median."
      ]
    },
    {
      "cell_type": "code",
      "execution_count": null,
      "metadata": {
        "colab": {
          "base_uri": "https://localhost:8080/"
        },
        "id": "5DkdDknNiZ7D",
        "outputId": "5f49683a-6d8a-4459-a714-f24a98f5d52e"
      },
      "outputs": [
        {
          "name": "stdout",
          "output_type": "stream",
          "text": [
            "age\n",
            "Median of age = 17.0\n",
            "absences\n",
            "Median of absences = 4.0\n",
            "G1\n",
            "Median of G1 = 11.0\n",
            "G2\n",
            "Median of G2 = 11.0\n",
            "G3\n",
            "Median of G3 = 11.0\n"
          ]
        }
      ],
      "source": [
        "#Using for loop in column of coursework_data dataset\n",
        "for col in coursework_data:\n",
        "  #If condition for \"age\", \"absences\", \"G1\", \"G2\", \"G3\" columns\n",
        "  if col in [\"age\", \"absences\", \"G1\", \"G2\", \"G3\"]:\n",
        "    #Printing the column mentioned in the array above\n",
        "    print(col)\n",
        "    #Printing the mean of data inside each column in the array above for coursework_data\n",
        "    print('Median of',col,'=',coursework_data[col].median())"
      ]
    },
    {
      "cell_type": "markdown",
      "metadata": {
        "id": "5L5TCyrTibl4"
      },
      "source": [
        "* For Standard Deviation: Here, the standard deviation of the variables of age, absences, G1, G2, and G3 columns is calculated. To do so, .std() function is used while printing the value of standard deviation."
      ]
    },
    {
      "cell_type": "code",
      "execution_count": null,
      "metadata": {
        "colab": {
          "base_uri": "https://localhost:8080/"
        },
        "id": "Db-iCov7iaMh",
        "outputId": "c7f11880-a317-448c-82bd-c8e86b9acfa8"
      },
      "outputs": [
        {
          "name": "stdout",
          "output_type": "stream",
          "text": [
            "age\n",
            "Standard Deviation of age = 1.2760427246056283\n",
            "absences\n",
            "Standard Deviation of absences = 8.00309568710818\n",
            "G1\n",
            "Standard Deviation of G1 = 3.319194671507669\n",
            "G2\n",
            "Standard Deviation of G2 = 3.7615046595560298\n",
            "G3\n",
            "Standard Deviation of G3 = 4.5814426109978434\n"
          ]
        }
      ],
      "source": [
        "#Using for loop in column of coursework_data dataset\n",
        "for col in coursework_data:\n",
        "  #If condition for \"age\", \"absences\", \"G1\", \"G2\", \"G3\" columns\n",
        "  if col in [\"age\", \"absences\", \"G1\", \"G2\", \"G3\"]:\n",
        "    #Printing the column mentioned in the array above\n",
        "    print(col)\n",
        "    #Printing the mean of data inside each column in the array above for coursework_data\n",
        "    print('Standard Deviation of',col,'=',coursework_data[col].std())"
      ]
    },
    {
      "cell_type": "markdown",
      "metadata": {
        "id": "ECkbLEM3iqgC"
      },
      "source": [
        "For Maximum Value: Here, the maximum value of the variables of age, absences, G1, G2, and G3 columns is calculated. To do so, .max() function is used while printing the value of maximum value."
      ]
    },
    {
      "cell_type": "code",
      "execution_count": null,
      "metadata": {
        "colab": {
          "base_uri": "https://localhost:8080/"
        },
        "id": "EW8WvBxtiaIs",
        "outputId": "82d28a09-62eb-4154-b593-25e25b060818"
      },
      "outputs": [
        {
          "name": "stdout",
          "output_type": "stream",
          "text": [
            "age\n",
            "Maximum of age = 22\n",
            "absences\n",
            "Maximum of absences = 75\n",
            "G1\n",
            "Maximum of G1 = 19\n",
            "G2\n",
            "Maximum of G2 = 19\n",
            "G3\n",
            "Maximum of G3 = 20\n"
          ]
        }
      ],
      "source": [
        "#Using for loop in column of coursework_data dataset\n",
        "for col in coursework_data:\n",
        "  #If condition for \"age\", \"absences\", \"G1\", \"G2\", \"G3\" columns\n",
        "  if col in [\"age\", \"absences\", \"G1\", \"G2\", \"G3\"]:\n",
        "    #Printing the column mentioned in the array above\n",
        "    print(col)\n",
        "    #Printing the mean of data inside each column in the array above for coursework_data\n",
        "    print('Maximum of',col,'=',coursework_data[col].max())"
      ]
    },
    {
      "cell_type": "markdown",
      "metadata": {
        "id": "L_pRgnbkjFgf"
      },
      "source": [
        "* For Minimum Value: Here, the maximum value of the variables of age, absences, G1, G2, and G3 columns is calculated. To do so, .min() function is used while printing the value of minimum value."
      ]
    },
    {
      "cell_type": "code",
      "execution_count": null,
      "metadata": {
        "colab": {
          "base_uri": "https://localhost:8080/"
        },
        "id": "msuuB9lijHB4",
        "outputId": "e5145fd5-2333-4226-ebe2-f83c9d1cfbfd"
      },
      "outputs": [
        {
          "name": "stdout",
          "output_type": "stream",
          "text": [
            "age\n",
            "Minimum of age = 15\n",
            "absences\n",
            "Minimum of absences = 0\n",
            "G1\n",
            "Minimum of G1 = 3\n",
            "G2\n",
            "Minimum of G2 = 0\n",
            "G3\n",
            "Minimum of G3 = 0\n"
          ]
        }
      ],
      "source": [
        "#Using for loop in column of coursework_data dataset\n",
        "for col in coursework_data:\n",
        "  #If condition for \"age\", \"absences\", \"G1\", \"G2\", \"G3\" columns\n",
        "  if col in [\"age\", \"absences\", \"G1\", \"G2\", \"G3\"]:\n",
        "    #Printing the column mentioned in the array above\n",
        "    print(col)\n",
        "    #Printing the mean of data inside each column in the array above for coursework_data\n",
        "    print('Minimum of',col,'=',coursework_data[col].min())"
      ]
    },
    {
      "cell_type": "markdown",
      "metadata": {
        "id": "1kYnM-STHAIB"
      },
      "source": [
        "## D. Data Exploration and Visualization\n"
      ]
    },
    {
      "cell_type": "markdown",
      "metadata": {
        "id": "9_nF9tIAYKyx"
      },
      "source": [
        "1. Write a code to show histogram plots and boxplots to visualize the distribution of the variables ”age”, ”absence”, and ”G3”. Interpret the results and comment on the distribution of each variable. Write your answer in text cell of jupyter notebook."
      ]
    },
    {
      "cell_type": "markdown",
      "metadata": {
        "id": "At4F-Os-6PBQ"
      },
      "source": [
        "* Histogram For Age: Here, using the seaborn library, histogram plots is created for age. The histplot function helps in displaying the histogram, below plt.title is used which helps in displaying the text formatted title data in the histogram table. At last, the histogram is displayed using show() function. Here, matplotlib.pyplot library is collection of command style functions that make matplotlib work or say plotting work.\n",
        "\n",
        "* After applying the above and interpeting the code, a symmetrical histogram is created. Here, x-axis interpret the values of age and y-axis interprets the number of count. The below bar graph shows that the number of student of age 16 are above 100 and the student with age 21, 22 are least in the school."
      ]
    },
    {
      "cell_type": "code",
      "execution_count": null,
      "metadata": {
        "colab": {
          "base_uri": "https://localhost:8080/",
          "height": 295
        },
        "id": "PAn3BZbRYRuJ",
        "outputId": "e90fd460-cb83-4e34-85ce-649bab778328"
      },
      "outputs": [
        {
          "data": {
            "image/png": "[encoded data removed]",
            "text/plain": [
              "<Figure size 432x288 with 1 Axes>"
            ]
          },
          "metadata": {
            "needs_background": "light"
          },
          "output_type": "display_data"
        }
      ],
      "source": [
        "#Using seaborn library and plotting histogram for age \n",
        "sns.histplot(data=coursework_data, x=\"age\")\n",
        "#Giving title to the histogram\n",
        "plt.title('Histogram of age')\n",
        "#Showing the plots using matplotlib.pyplot library\n",
        "plt.show()\n"
      ]
    },
    {
      "cell_type": "markdown",
      "metadata": {
        "id": "95D-2cA-7i5M"
      },
      "source": [
        "* Histogram For Absences: Here, using the seaborn library, histogram plots is created for absences. The histplot function helps in displaying the histogram, below plt.title is used which helps in displaying the text formatted title data in the histogram table. At last, the histogram is displayed using show() function. Here, matplotlib.pyplot library is collection of command style functions that make matplotlib work or say plotting work.\n",
        "\n",
        "* After applying the above and interpeting the code, a symmetrical histogram is created. Here, x-axis interpret the number of absences and y-axis interprets the number of count. The below bar graph shows that the number of absences."
      ]
    },
    {
      "cell_type": "code",
      "execution_count": null,
      "metadata": {
        "colab": {
          "base_uri": "https://localhost:8080/",
          "height": 295
        },
        "id": "Os0GRty5o9hO",
        "outputId": "91b7a0ab-8d6d-4963-bb74-0dc156d69022"
      },
      "outputs": [
        {
          "data": {
            "image/png": "[encoded data removed]",
            "text/plain": [
              "<Figure size 432x288 with 1 Axes>"
            ]
          },
          "metadata": {
            "needs_background": "light"
          },
          "output_type": "display_data"
        }
      ],
      "source": [
        "#Using seaborn library and plotting histogram for absences\n",
        "sns.histplot(data=coursework_data, x=\"absences\")\n",
        "#Giving title to the histogram\n",
        "plt.title('Histogram of absences')\n",
        "# Show the plots using matplotlib.pyplot library\n",
        "plt.show()"
      ]
    },
    {
      "cell_type": "markdown",
      "metadata": {
        "id": "mNE8rlXdsEuj"
      },
      "source": [
        "* Histogram For G3: Here, using the seaborn library, histogram plots is created for G3. G3 is the final grade with pass and fail data of MS and GP school. The histplot function helps in displaying the histogram, below plt.title is used which helps in displaying the text formatted title data in the histogram table. At last, the histogram is displayed using show() function. Here, matplotlib.pyplot library is collection of command style functions that make matplotlib work or say plotting work.\n",
        "\n",
        "* After applying the above and interpeting the code, a symmetrical histogram is created. Here, x-axis interpret grade G3 and y-axis interprets the number of count. The below bar graph shows that 80 students combined has scored overall highest 80 marks, and 40 students in MS and GP school has scored least marks which is 0 marks. "
      ]
    },
    {
      "cell_type": "code",
      "execution_count": null,
      "metadata": {
        "colab": {
          "base_uri": "https://localhost:8080/",
          "height": 295
        },
        "id": "ynqyv_5ipKGW",
        "outputId": "a14900e7-6da3-469a-a1a3-e4bd999e059f"
      },
      "outputs": [
        {
          "data": {
            "image/png": "[encoded data removed]",
            "text/plain": [
              "<Figure size 432x288 with 1 Axes>"
            ]
          },
          "metadata": {
            "needs_background": "light"
          },
          "output_type": "display_data"
        }
      ],
      "source": [
        "#Using seaborn library and plotting histogram for G3\n",
        "sns.histplot(data=coursework_data, x=\"G3\")\n",
        "#Giving title to the histogram\n",
        "plt.title('Histogram of G3')\n",
        "# Show the plots using matplotlib.pyplot library\n",
        "plt.show()"
      ]
    },
    {
      "cell_type": "markdown",
      "metadata": {
        "id": "etHK-_zDtac6"
      },
      "source": [
        "* Overall Histogram: Here, using the seaborn library, histogram plots is created for age,absences and G3.G3 is the final grade with pass and fail data of MS and GP school. The histplot function helps in displaying the histogram, below plt.title is used which helps in displaying the text formatted title data in the histogram table. At last, the histogram is displayed using show() function. Here, matplotlib.pyplot library is collection of command style functions that make matplotlib work or say plotting work.\n",
        "\n",
        "* After applying the above and interpeting the code, shape of the histogram for each variable is displayed. A symmetrical histogram with a single peak indicates a normal distribution, while a skewed histogram with a long tail on one side indicates a non-normal distribution."
      ]
    },
    {
      "cell_type": "code",
      "execution_count": null,
      "metadata": {
        "colab": {
          "base_uri": "https://localhost:8080/",
          "height": 295
        },
        "id": "w8udLn3UuXGh",
        "outputId": "056e2d96-4add-4906-da8c-aa94c4aaff0c"
      },
      "outputs": [
        {
          "data": {
            "image/png": "[encoded data removed]",
            "text/plain": [
              "<Figure size 432x288 with 1 Axes>"
            ]
          },
          "metadata": {
            "needs_background": "light"
          },
          "output_type": "display_data"
        }
      ],
      "source": [
        "#Using seaborn library, plotting histograms for the variables \"age\", \"absence\", and \"G3\"\n",
        "sns.histplot(data=coursework_data, x=\"age\")\n",
        "sns.histplot(data=coursework_data, x=\"absences\")\n",
        "sns.histplot(data=coursework_data, x=\"G3\")\n",
        "#Giving title to the histogram\n",
        "plt.title('Histogram Comparison of age, absences, G3')\n",
        "# Show the plots using matplotlib.pyplot library\n",
        "plt.show()"
      ]
    },
    {
      "cell_type": "markdown",
      "metadata": {
        "id": "V8zWnI5l4pKo"
      },
      "source": [
        "![Box-Plot-and-Whisker-Plot-1.png](data:image/png;base64,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)"
      ]
    },
    {
      "cell_type": "markdown",
      "metadata": {
        "id": "Djf1IAa5uFF5"
      },
      "source": [
        "* Boxplot For Age: Here, using the seaborn library, boxplot is created for age. The boxplot function helps in displaying the boxplot, below plt.title is used which helps in displaying the text formatted title data in the boxplot table. At last, the boxplot is displayed using show() function. Here, matplotlib.pyplot library is collection of command style functions that make matplotlib work or say plotting work.\n",
        "\n",
        "* After applying the above and interpeting the code, shape of the boxplot for age variable is displayed. A boxplot is a graphical representation of numerical data that displays a summary of the distribution of the data. It is a type of chart that displays the minimum, maximum, median, and quartiles of a dataset. The below boxplot interprets large box that shows the data is widely distributed in 16-18 ages and boxplot with a small box and no outliers shows that the data is tightly distributed from 15 to 22. 15 is the minimum value of the age and 21 is the maximum value. The data that falls on the far left side of the ordered data is outliers, here 22 is the outlier, 17 is the median value whereas 16 is first quartile and 18 is third quartile of the age."
      ]
    },
    {
      "cell_type": "code",
      "execution_count": null,
      "metadata": {
        "colab": {
          "base_uri": "https://localhost:8080/",
          "height": 295
        },
        "id": "_YaPbxpPsqIm",
        "outputId": "640535b7-2c4f-4204-9d00-ac3f127e6dda"
      },
      "outputs": [
        {
          "data": {
            "image/png": "[encoded data removed]",
            "text/plain": [
              "<Figure size 432x288 with 1 Axes>"
            ]
          },
          "metadata": {
            "needs_background": "light"
          },
          "output_type": "display_data"
        }
      ],
      "source": [
        "#Using seaborn library and plotting boxplot for age\n",
        "sns.boxplot(data=coursework_data, x=\"age\")\n",
        "#Plotting the grid \n",
        "plt.grid()\n",
        "#Giving title to the boxplot\n",
        "plt.title('Boxplot of age')\n",
        "# Show the plots using matplotlib.pyplot library\n",
        "plt.show()"
      ]
    },
    {
      "cell_type": "markdown",
      "metadata": {
        "id": "V15HaK6zyXeo"
      },
      "source": [
        "* Boxplot For Absences: Here, using the seaborn library, boxplot is created for absences. The boxplot function helps in displaying the boxplot, below plt.title is used which helps in displaying the text formatted title data in the boxplot table. At last, the boxplot is displayed using show() function. Here, matplotlib.pyplot library is collection of command style functions that make matplotlib work or say plotting work.\n",
        "\n",
        "* After applying the above and interpeting the code, shape of the boxplot for absences variable is displayed. A boxplot is a graphical representation of numerical data that displays a summary of the distribution of the data. It is a type of chart that displays the minimum, maximum, median, and quartiles of a dataset. The below boxplot interprets large box that shows the data is widely distributed in 0-10, a small outline is shown in 20 means 20 absences were recorded minimum, and boxplot with a small box and no outliers shows that the data is tightly distributed which shows the least data for absences in the school. In the below boxplot, 0 is the minimum value and 20 is the maximum value, The first quartile of absences is 0. The data that falls on the far left or right side of the ordered data is outliers, here the values above 20 to 70 are the outliers.\n"
      ]
    },
    {
      "cell_type": "code",
      "execution_count": null,
      "metadata": {
        "colab": {
          "base_uri": "https://localhost:8080/",
          "height": 295
        },
        "id": "KUswCZ03szOY",
        "outputId": "a6af9db5-a3a4-4d63-a632-0d41a6dc81c0"
      },
      "outputs": [
        {
          "data": {
            "image/png": "[encoded data removed]",
            "text/plain": [
              "<Figure size 432x288 with 1 Axes>"
            ]
          },
          "metadata": {
            "needs_background": "light"
          },
          "output_type": "display_data"
        }
      ],
      "source": [
        "#Using seaborn library and plotting boxplot for absences\n",
        "sns.boxplot(data=coursework_data, x=\"absences\")\n",
        "#Plotting the grid \n",
        "plt.grid()\n",
        "#Giving title to the boxplot\n",
        "plt.title('Boxplot of absences')\n",
        "# Show the plots using matplotlib.pyplot library\n",
        "plt.show()"
      ]
    },
    {
      "cell_type": "markdown",
      "metadata": {
        "id": "_X0pI_rGzNlK"
      },
      "source": [
        "* Boxplot For G3: Here, using the seaborn library, boxplot is created for G3. G3 is the final grade with pass and fail data of MS and GP school. The boxplot function helps in displaying the boxplot, below plt.title is used which helps in displaying the text formatted title data in the boxplot table. At last, the boxplot is displayed using show() function. Here, matplotlib.pyplot library is collection of command style functions that make matplotlib work or say plotting work.\n",
        "\n",
        "* After applying the above and interpeting the code, shape of the boxplot for G3 variable is displayed. A boxplot is a graphical representation of numerical data that displays a summary of the distribution of the data. It is a type of chart that displays the minimum, maximum, median, and quartiles of a dataset. The below boxplot interprets large box that shows the data is widely distributed betwwen 7.5-15 marks and boxplot with a small box and no outliers shows that the data is tightly distributed from 0 marks to 20 marks. In the below boxplot, 0 is the minimum value and 20 is the maximum value, The first quartile of G3 is 7.5 and the third quartile is in between 12.5 to 15.0. "
      ]
    },
    {
      "cell_type": "code",
      "execution_count": null,
      "metadata": {
        "colab": {
          "base_uri": "https://localhost:8080/",
          "height": 295
        },
        "id": "2p_kRyAOsaLI",
        "outputId": "e3e2e400-960a-4299-b386-ae7476d961cd"
      },
      "outputs": [
        {
          "data": {
            "image/png": "[encoded data removed]",
            "text/plain": [
              "<Figure size 432x288 with 1 Axes>"
            ]
          },
          "metadata": {
            "needs_background": "light"
          },
          "output_type": "display_data"
        }
      ],
      "source": [
        "#Using seaborn library and plotting boxplot for G3\n",
        "sns.boxplot(data=coursework_data, x=\"G3\")\n",
        "#Plotting the grid \n",
        "plt.grid()\n",
        "#Giving title to the boxplot\n",
        "plt.title('Boxplot of G3')\n",
        "# Show the plots using matplotlib.pyplot library\n",
        "plt.show()"
      ]
    },
    {
      "cell_type": "markdown",
      "metadata": {
        "id": "l-uDrWCZvyRZ"
      },
      "source": [
        "* Overall Boxplot: The below boxplot interprets large box that shows the data is widely distributed and boxplot with a small box and no outliers shows that the data is tightly distributed which shows the least data. "
      ]
    },
    {
      "cell_type": "code",
      "execution_count": null,
      "metadata": {
        "colab": {
          "base_uri": "https://localhost:8080/",
          "height": 295
        },
        "id": "UeKsCPWkuqX8",
        "outputId": "13a57caf-42ae-4777-b635-9deb439fe806"
      },
      "outputs": [
        {
          "data": {
            "image/png": "[encoded data removed]",
            "text/plain": [
              "<Figure size 432x288 with 1 Axes>"
            ]
          },
          "metadata": {
            "needs_background": "light"
          },
          "output_type": "display_data"
        }
      ],
      "source": [
        "#Using seaborn library and plotting boxplots for the variables \"age\", \"absence\", and \"G3\"\n",
        "sns.boxplot(data=coursework_data, x=\"age\")\n",
        "sns.boxplot(data=coursework_data, x=\"absences\")\n",
        "sns.boxplot(data=coursework_data, x=\"G3\")\n",
        "#Plotting the grid \n",
        "plt.grid()\n",
        "#Giving title to the boxplot\n",
        "plt.title('Boxplot Comparison of age, absences, G3')\n",
        "# Show the plots using matplotlib.pyplot library\n",
        "plt.show()\n"
      ]
    },
    {
      "cell_type": "markdown",
      "metadata": {
        "id": "c7WSU2c_YOoB"
      },
      "source": [
        "2. Write a code to show a bar graph of the total number of students who passed the final term grouped according to the school that they belong to. Use proper labels in the graph and interpret the results."
      ]
    },
    {
      "cell_type": "markdown",
      "metadata": {
        "id": "QlSC79Yj0o7E"
      },
      "source": [
        "* First, the variable named total school is declared where the final term value is grouped according to school. Then the overall data is displayed with total students in the school. Using the seaborn library, barplot is created for G3. G3 is the final grade with pass and fail data of MS and GP school. Here, the data in G3 is checked with a condition i.e. to pass the person must have mark greater than or equals to 8. At last, the boxplot is displayed using show() function. Here, matplotlib.pyplot library is collection of command style functions that make matplotlib work or say plotting work. From the data displayed and the bar graph intrepeted, we can conclude there were 288 students who passed in GP school whereas there were 37 students who passed in MS school."
      ]
    },
    {
      "cell_type": "code",
      "execution_count": null,
      "metadata": {
        "colab": {
          "base_uri": "https://localhost:8080/"
        },
        "id": "MfMypF0PYSYU",
        "outputId": "238d786b-33e7-46e0-a2a4-458c1100ac8b"
      },
      "outputs": [
        {
          "data": {
            "text/plain": [
              "school\n",
              "GP    288\n",
              "MS     37\n",
              "dtype: int64"
            ]
          },
          "execution_count": 81,
          "metadata": {},
          "output_type": "execute_result"
        }
      ],
      "source": [
        "#Calculating the total students who passed in G3 i.e. final term with a condition used above and the grouping data by school\n",
        "total_school = coursework_data[coursework_data[\"G3\"] >= 8].groupby(\"school\").size()\n",
        "#Showing the data in total_school variable\n",
        "total_school"
      ]
    },
    {
      "cell_type": "code",
      "execution_count": null,
      "metadata": {
        "colab": {
          "base_uri": "https://localhost:8080/",
          "height": 295
        },
        "id": "ZCp5g3EPvsZg",
        "outputId": "7f3cc1cf-c439-4d28-c463-a47742e0f494"
      },
      "outputs": [
        {
          "data": {
            "image/png": "[encoded data removed]",
            "text/plain": [
              "<Figure size 432x288 with 1 Axes>"
            ]
          },
          "metadata": {
            "needs_background": "light"
          },
          "output_type": "display_data"
        }
      ],
      "source": [
        "#Using seaborn library and plotting bar for total number of students who passed the final term for each school\n",
        "sns.barplot(x=total_school.index, y=total_school.values)\n",
        "#Giving title to the boxplot\n",
        "plt.title('Bar graph for passed students')\n",
        "#Naming/ labeling the x-axis and y-axis in graph \n",
        "plt.xlabel(\"School\")\n",
        "plt.ylabel(\"Number of Students\")\n",
        "#Showing the plot using matplotlib.pyplot library\n",
        "plt.show()"
      ]
    },
    {
      "cell_type": "code",
      "execution_count": null,
      "metadata": {
        "colab": {
          "base_uri": "https://localhost:8080/",
          "height": 320
        },
        "id": "Qg-81u9gBvC2",
        "outputId": "eb73e873-e56e-44b7-b3ab-0bb4b121ecd3"
      },
      "outputs": [
        {
          "data": {
            "text/plain": [
              "Text(0.5, 1.0, 'Bar graph for passed students and failed student')"
            ]
          },
          "execution_count": 83,
          "metadata": {},
          "output_type": "execute_result"
        },
        {
          "data": {
            "image/png": "[encoded data removed]",
            "text/plain": [
              "<Figure size 432x288 with 1 Axes>"
            ]
          },
          "metadata": {
            "needs_background": "light"
          },
          "output_type": "display_data"
        }
      ],
      "source": [
        "#Alternative Method\n",
        "#Using pandas library and then extracting the passed data from above question and school data then plotting then in bar graph\n",
        "pd.crosstab(coursework_data.passed, coursework_data.school).plot(kind = 'bar', xlabel=\"Passed or Failed\", ylabel = \"Frequency of people\")\n",
        "#Giving title to the boxplot\n",
        "plt.title('Bar graph for passed students and failed student')"
      ]
    },
    {
      "cell_type": "markdown",
      "metadata": {
        "id": "y5EUNGiAYTTG"
      },
      "source": [
        "3. Write a code to show a pie chart of analysis of students’ grades as per their school. Use proper labels in the graph and interpret the results."
      ]
    },
    {
      "cell_type": "markdown",
      "metadata": {
        "id": "XBRoE_taG4xy"
      },
      "source": [
        "* Likewise the above interpretation, first a varibale is initialized where the coursework data is grouped by school and and then value of the two data is finalized and then shown as a output. Visualizing the data, matplotlib.pyplot library is used creating a pie chart of average of G3 score for each school and then shown as the output. "
      ]
    },
    {
      "cell_type": "code",
      "execution_count": null,
      "metadata": {
        "colab": {
          "base_uri": "https://localhost:8080/"
        },
        "id": "kvjf0KUnYW1A",
        "outputId": "9bf1c699-f7ca-47da-8fbc-a557b166e652"
      },
      "outputs": [
        {
          "data": {
            "text/plain": [
              "school\n",
              "GP    10.489971\n",
              "MS     9.847826\n",
              "Name: G3, dtype: float64"
            ]
          },
          "execution_count": 145,
          "metadata": {},
          "output_type": "execute_result"
        }
      ],
      "source": [
        "#Calculating the average students grades as per as their school by first grouping the data by school\n",
        "grade_per_school = coursework_data.groupby(\"school\")[\"G3\"].mean()\n",
        "#Showing the data in grade_per_school variable\n",
        "grade_per_school"
      ]
    },
    {
      "cell_type": "code",
      "execution_count": null,
      "metadata": {
        "colab": {
          "base_uri": "https://localhost:8080/",
          "height": 264
        },
        "id": "_GhpPd6yz_gR",
        "outputId": "54ba88e0-3896-4a46-b177-d13b1b718581"
      },
      "outputs": [
        {
          "data": {
            "image/png": "[encoded data removed]",
            "text/plain": [
              "<Figure size 432x288 with 1 Axes>"
            ]
          },
          "metadata": {},
          "output_type": "display_data"
        }
      ],
      "source": [
        "#Using matplotlib.pyplot library creating a pie chart of average of G3 score for each school\n",
        "plt.pie(grade_per_school.values, labels=grade_per_school.index, autopct='%1.1f%%', radius=1)\n",
        "#Giving title to the piechart\n",
        "plt.title(\"Average Mean Grades of GP & MS Schools\")\n",
        "#Showing the plot using matplotlib.pyplot library\n",
        "plt.show()"
      ]
    },
    {
      "cell_type": "code",
      "execution_count": null,
      "metadata": {
        "colab": {
          "base_uri": "https://localhost:8080/"
        },
        "id": "iGtdDQC5hjMi",
        "outputId": "cf35d4fe-f566-4f8e-eb7a-03664e6b883f"
      },
      "outputs": [
        {
          "data": {
            "text/plain": [
              "G3  school\n",
              "0   GP        34\n",
              "    MS         4\n",
              "4   GP         1\n",
              "5   GP         5\n",
              "    MS         2\n",
              "6   GP        14\n",
              "    MS         1\n",
              "7   GP         7\n",
              "    MS         2\n",
              "8   GP        28\n",
              "    MS         4\n",
              "9   GP        24\n",
              "    MS         4\n",
              "10  GP        46\n",
              "    MS        10\n",
              "11  GP        43\n",
              "    MS         4\n",
              "12  GP        28\n",
              "    MS         3\n",
              "13  GP        26\n",
              "    MS         5\n",
              "14  GP        26\n",
              "    MS         1\n",
              "15  GP        30\n",
              "    MS         3\n",
              "16  GP        14\n",
              "    MS         2\n",
              "17  GP         6\n",
              "18  GP        12\n",
              "19  GP         4\n",
              "    MS         1\n",
              "20  GP         1\n",
              "Name: school, dtype: int64"
            ]
          },
          "execution_count": 147,
          "metadata": {},
          "output_type": "execute_result"
        }
      ],
      "source": [
        "#Calculating the students grades of G3 as per as their school by first grouping the data by school\n",
        "G3_per_school = coursework_data.groupby([\"G3\"])[\"school\"].value_counts()\n",
        "#Showing the data in grade_per_school variable\n",
        "G3_per_school"
      ]
    },
    {
      "cell_type": "code",
      "execution_count": null,
      "metadata": {
        "colab": {
          "base_uri": "https://localhost:8080/",
          "height": 631
        },
        "id": "7i4a-1S5SOPv",
        "outputId": "2d494759-392b-4898-d1a3-c10c7c5618eb"
      },
      "outputs": [
        {
          "data": {
            "text/plain": [
              "Text(0.5, 1.0, 'Individual G3 Grades of GP & MS Schools')"
            ]
          },
          "execution_count": 148,
          "metadata": {},
          "output_type": "execute_result"
        },
        {
          "data": {
            "image/png": "[encoded data removed]",
            "text/plain": [
              "<Figure size 432x288 with 1 Axes>"
            ]
          },
          "metadata": {},
          "output_type": "display_data"
        }
      ],
      "source": [
        "#calculating the students grades as per their school\n",
        "G3_per_school.plot(kind=\"pie\", radius=3)\n",
        "#Giving title to the piechart\n",
        "plt.title(\"Individual G3 Grades of GP & MS Schools\")"
      ]
    },
    {
      "cell_type": "markdown",
      "metadata": {
        "id": "LdLa6A_VYXTN"
      },
      "source": [
        "4. Write a code to show a bar graph with the relation of the father’s occupation with the grade of the student. Use proper labels in the graph and interpret the results."
      ]
    },
    {
      "cell_type": "markdown",
      "metadata": {
        "id": "EABC7PCSI8CR"
      },
      "source": [
        "* To show the relation of the father's occupation with the grade of the student, first we need to check the information inside the dataset, where we can see a column named Fjob with 395 not null values of object datatype. Then, a variable named fjob_per_grade is initialized which groups the data from father's job and final grade of the student and then showing the data were the first the mean of the grouped data is defined and calculated. Then, using seaborn library and plotting bar for average G3 scores for each father's occupation is displayed first by initializing father's occupation in x-axis and final score in y-axis. "
      ]
    },
    {
      "cell_type": "code",
      "execution_count": null,
      "metadata": {
        "colab": {
          "base_uri": "https://localhost:8080/"
        },
        "id": "YguUyL7AYabR",
        "outputId": "c40355e7-a530-486a-e801-d4faba5b870d"
      },
      "outputs": [
        {
          "name": "stdout",
          "output_type": "stream",
          "text": [
            "<class 'pandas.core.frame.DataFrame'>\n",
            "RangeIndex: 395 entries, 0 to 394\n",
            "Data columns (total 52 columns):\n",
            " #   Column          Non-Null Count  Dtype \n",
            "---  ------          --------------  ----- \n",
            " 0   school          395 non-null    object\n",
            " 1   sex             395 non-null    object\n",
            " 2   age             395 non-null    int64 \n",
            " 3   address         395 non-null    object\n",
            " 4   famsize         395 non-null    object\n",
            " 5   Pstatus         395 non-null    object\n",
            " 6   Medu            395 non-null    object\n",
            " 7   Fedu            395 non-null    object\n",
            " 8   Mjob            395 non-null    object\n",
            " 9   Fjob            395 non-null    object\n",
            " 10  reason          395 non-null    object\n",
            " 11  guardian        395 non-null    object\n",
            " 12  traveltime      395 non-null    object\n",
            " 13  studytime       395 non-null    object\n",
            " 14  failures        395 non-null    int64 \n",
            " 15  schoolsup       395 non-null    object\n",
            " 16  famsup          395 non-null    object\n",
            " 17  paid            395 non-null    object\n",
            " 18  activities      395 non-null    object\n",
            " 19  nursery         395 non-null    object\n",
            " 20  higher          395 non-null    object\n",
            " 21  internet        395 non-null    object\n",
            " 22  romantic        395 non-null    object\n",
            " 23  famrel          395 non-null    object\n",
            " 24  freetime        395 non-null    object\n",
            " 25  goout           395 non-null    object\n",
            " 26  Dalc            395 non-null    object\n",
            " 27  Walc            395 non-null    object\n",
            " 28  health          395 non-null    object\n",
            " 29  absences        395 non-null    int64 \n",
            " 30  G1              395 non-null    int64 \n",
            " 31  G2              395 non-null    int64 \n",
            " 32  G3              395 non-null    int64 \n",
            " 33  new_school      395 non-null    int64 \n",
            " 34  new_sex         395 non-null    int64 \n",
            " 35  new_address     395 non-null    int64 \n",
            " 36  new_schoolsup   395 non-null    int64 \n",
            " 37  new_famsup      395 non-null    int64 \n",
            " 38  new_activities  395 non-null    int64 \n",
            " 39  new_nursery     395 non-null    int64 \n",
            " 40  new_internet    395 non-null    int64 \n",
            " 41  new_romantic    395 non-null    int64 \n",
            " 42  new_Medu        395 non-null    int64 \n",
            " 43  new_Fedu        395 non-null    int64 \n",
            " 44  new_reason      395 non-null    int64 \n",
            " 45  new_guardian    395 non-null    int64 \n",
            " 46  new_studytime   395 non-null    int64 \n",
            " 47  new_freetime    395 non-null    int64 \n",
            " 48  new_health      395 non-null    int64 \n",
            " 49  category_age    395 non-null    object\n",
            " 50  category_Age    395 non-null    object\n",
            " 51  passed          395 non-null    object\n",
            "dtypes: int64(22), object(30)\n",
            "memory usage: 160.6+ KB\n"
          ]
        }
      ],
      "source": [
        "# To know the data value for father's occupation \n",
        "# Working on Fjob only as per question\n",
        "coursework_data.info()"
      ]
    },
    {
      "cell_type": "code",
      "execution_count": null,
      "metadata": {
        "colab": {
          "base_uri": "https://localhost:8080/"
        },
        "id": "gq2nq6P5P7Br",
        "outputId": "ea7558c6-7f59-4ec7-9559-e7227148a4f0"
      },
      "outputs": [
        {
          "data": {
            "text/plain": [
              "Fjob\n",
              "at_home      20\n",
              "health       18\n",
              "other       217\n",
              "services    111\n",
              "teacher      29\n",
              "Name: G3, dtype: int64"
            ]
          },
          "execution_count": 95,
          "metadata": {},
          "output_type": "execute_result"
        }
      ],
      "source": [
        "#Calculating the job of fathers per G3 grade of the students\n",
        "fjob_gdata = coursework_data.groupby(\"Fjob\")[\"G3\"].size()\n",
        "#Showing the data\n",
        "fjob_gdata"
      ]
    },
    {
      "cell_type": "code",
      "execution_count": null,
      "metadata": {
        "colab": {
          "base_uri": "https://localhost:8080/"
        },
        "id": "rvTx-GuF5Tvi",
        "outputId": "afbce344-8b08-4603-9a44-c7b70d6936e2"
      },
      "outputs": [
        {
          "data": {
            "text/plain": [
              "Fjob\n",
              "at_home     10.150000\n",
              "health      11.611111\n",
              "other       10.193548\n",
              "services    10.297297\n",
              "teacher     11.965517\n",
              "Name: G3, dtype: float64"
            ]
          },
          "execution_count": 70,
          "metadata": {},
          "output_type": "execute_result"
        }
      ],
      "source": [
        "#Calculating the job of fahters per the average G3 grade of the students\n",
        "fjob_per_grade = coursework_data.groupby(\"Fjob\")[\"G3\"].mean()\n",
        "#Showing the data in fjob_per_grade variable\n",
        "fjob_per_grade "
      ]
    },
    {
      "cell_type": "code",
      "execution_count": null,
      "metadata": {
        "colab": {
          "base_uri": "https://localhost:8080/",
          "height": 296
        },
        "id": "51snogpE5tq4",
        "outputId": "9cb45808-7002-4021-8fb3-2aee5c81634c"
      },
      "outputs": [
        {
          "data": {
            "image/png": "[encoded data removed]",
            "text/plain": [
              "<Figure size 432x288 with 1 Axes>"
            ]
          },
          "metadata": {
            "needs_background": "light"
          },
          "output_type": "display_data"
        }
      ],
      "source": [
        "#Using seaborn library and plotting bar for average G3 scores for each father's occupation\n",
        "sns.barplot(x=fjob_per_grade.index, y=fjob_per_grade.values)\n",
        "#Giving title to the boxplot\n",
        "plt.title('Bar graph for relation of father’s occupation with the grade of the student ')\n",
        "#Labeling the x-axis and y-axis in graph \n",
        "plt.xlabel(\"Father's Occupation\")\n",
        "plt.ylabel(\"G3 Score\")\n",
        "#Showing the plot using matplotlib.pyplot library\n",
        "plt.show()"
      ]
    }
  ],
  "metadata": {
    "colab": {
      "provenance": []
    },
    "kernelspec": {
      "display_name": "Python 3",
      "name": "python3"
    },
    "language_info": {
      "name": "python"
    }
  },
  "nbformat": 4,
  "nbformat_minor": 0
}
